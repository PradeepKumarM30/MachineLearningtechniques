{
  "nbformat": 4,
  "nbformat_minor": 0,
  "metadata": {
    "colab": {
      "name": "20MAI0030FAT.ipynb",
      "provenance": [],
      "authorship_tag": "ABX9TyOlB7XhgkoRgPtLeliSAVg+",
      "include_colab_link": true
    },
    "kernelspec": {
      "name": "python3",
      "display_name": "Python 3"
    },
    "language_info": {
      "name": "python"
    }
  },
  "cells": [
    {
      "cell_type": "markdown",
      "metadata": {
        "id": "view-in-github",
        "colab_type": "text"
      },
      "source": [
        "<a href=\"https://colab.research.google.com/github/PradeepKumarM30/MachineLearningtechniques/blob/main/20MAI0030FAT/20MAI0030FAT.ipynb\" target=\"_parent\"><img src=\"https://colab.research.google.com/assets/colab-badge.svg\" alt=\"Open In Colab\"/></a>"
      ]
    },
    {
      "cell_type": "markdown",
      "metadata": {
        "id": "GR-9K_jdv1sy"
      },
      "source": [
        "# **QUESTION : Design either a KNN or RandomForest or an SVM for a Dataset from UCI (University of California, Irvine) Repository. Organise your implementation as a sequence of steps. Include Comments. Provide the link to the dataset. Give a short insight on data. Establish the accuracy of the model.**"
      ]
    },
    {
      "cell_type": "markdown",
      "metadata": {
        "id": "zFh4T0zgznEI"
      },
      "source": [
        "# **SHORT INSIGHT : The dataset is a multilabel classification problem. The goal is to predict the presence of amphibians species near the water reservoirs based on features obtained from GIS systems and satellite image. The data used was derived from GIS and satellite information, as well as from information gathered from the natural inventories that were prepared for the environmental impact assessment (EIA) reports for two planned road projects (Road A and Road B) in Poland. These reports were mostly used to gather information on the size of the amphibian population in each of the 189 occurrence sites**"
      ]
    },
    {
      "cell_type": "markdown",
      "metadata": {
        "id": "ax5_vvi8wImB"
      },
      "source": [
        "# **STEP 1: Load Imports**"
      ]
    },
    {
      "cell_type": "code",
      "metadata": {
        "id": "pKTD8r2ak-CD"
      },
      "source": [
        "import sklearn.datasets\n",
        "import pandas as pd\n",
        "from sklearn.metrics import mean_squared_error\n",
        "from sklearn.metrics import confusion_matrix,accuracy_score,f1_score,precision_score,recall_score,classification_report\n",
        "import seaborn as sns"
      ],
      "execution_count": 133,
      "outputs": []
    },
    {
      "cell_type": "markdown",
      "metadata": {
        "id": "LwN-7L0AwPWD"
      },
      "source": [
        "# **STEP 2 : Read the downloaded dataset from colab sample data directory**"
      ]
    },
    {
      "cell_type": "code",
      "metadata": {
        "id": "auUEC8CtlLib"
      },
      "source": [
        "df = pd.read_csv('/content/sample_data/dataset.csv', sep=\";\") #Downloaded dataset from UCI\n"
      ],
      "execution_count": 134,
      "outputs": []
    },
    {
      "cell_type": "code",
      "metadata": {
        "colab": {
          "base_uri": "https://localhost:8080/",
          "height": 206
        },
        "id": "2oDHHKRqs_Aq",
        "outputId": "8e3934cb-8f76-4d4a-b552-9e1da88ae5aa"
      },
      "source": [
        "df.head()"
      ],
      "execution_count": 135,
      "outputs": [
        {
          "output_type": "execute_result",
          "data": {
            "text/html": [
              "<div>\n",
              "<style scoped>\n",
              "    .dataframe tbody tr th:only-of-type {\n",
              "        vertical-align: middle;\n",
              "    }\n",
              "\n",
              "    .dataframe tbody tr th {\n",
              "        vertical-align: top;\n",
              "    }\n",
              "\n",
              "    .dataframe thead th {\n",
              "        text-align: right;\n",
              "    }\n",
              "</style>\n",
              "<table border=\"1\" class=\"dataframe\">\n",
              "  <thead>\n",
              "    <tr style=\"text-align: right;\">\n",
              "      <th></th>\n",
              "      <th>ID</th>\n",
              "      <th>Motorway</th>\n",
              "      <th>SR</th>\n",
              "      <th>NR</th>\n",
              "      <th>TR</th>\n",
              "      <th>VR</th>\n",
              "      <th>SUR1</th>\n",
              "      <th>SUR2</th>\n",
              "      <th>SUR3</th>\n",
              "      <th>UR</th>\n",
              "      <th>FR</th>\n",
              "      <th>OR</th>\n",
              "      <th>RR</th>\n",
              "      <th>BR</th>\n",
              "      <th>MR</th>\n",
              "      <th>CR</th>\n",
              "      <th>Green frogs</th>\n",
              "      <th>Brown frogs</th>\n",
              "      <th>Common toad</th>\n",
              "      <th>Fire-bellied toad</th>\n",
              "      <th>Tree frog</th>\n",
              "      <th>Common newt</th>\n",
              "      <th>Great crested newt</th>\n",
              "    </tr>\n",
              "  </thead>\n",
              "  <tbody>\n",
              "    <tr>\n",
              "      <th>0</th>\n",
              "      <td>1</td>\n",
              "      <td>A1</td>\n",
              "      <td>600</td>\n",
              "      <td>1</td>\n",
              "      <td>1</td>\n",
              "      <td>4</td>\n",
              "      <td>6</td>\n",
              "      <td>2</td>\n",
              "      <td>10</td>\n",
              "      <td>0</td>\n",
              "      <td>0</td>\n",
              "      <td>50</td>\n",
              "      <td>0</td>\n",
              "      <td>0</td>\n",
              "      <td>0</td>\n",
              "      <td>1</td>\n",
              "      <td>0</td>\n",
              "      <td>0</td>\n",
              "      <td>0</td>\n",
              "      <td>0</td>\n",
              "      <td>0</td>\n",
              "      <td>0</td>\n",
              "      <td>0</td>\n",
              "    </tr>\n",
              "    <tr>\n",
              "      <th>1</th>\n",
              "      <td>2</td>\n",
              "      <td>A1</td>\n",
              "      <td>700</td>\n",
              "      <td>1</td>\n",
              "      <td>5</td>\n",
              "      <td>1</td>\n",
              "      <td>10</td>\n",
              "      <td>6</td>\n",
              "      <td>10</td>\n",
              "      <td>3</td>\n",
              "      <td>1</td>\n",
              "      <td>75</td>\n",
              "      <td>1</td>\n",
              "      <td>1</td>\n",
              "      <td>0</td>\n",
              "      <td>1</td>\n",
              "      <td>0</td>\n",
              "      <td>1</td>\n",
              "      <td>1</td>\n",
              "      <td>0</td>\n",
              "      <td>0</td>\n",
              "      <td>1</td>\n",
              "      <td>0</td>\n",
              "    </tr>\n",
              "    <tr>\n",
              "      <th>2</th>\n",
              "      <td>3</td>\n",
              "      <td>A1</td>\n",
              "      <td>200</td>\n",
              "      <td>1</td>\n",
              "      <td>5</td>\n",
              "      <td>1</td>\n",
              "      <td>10</td>\n",
              "      <td>6</td>\n",
              "      <td>10</td>\n",
              "      <td>3</td>\n",
              "      <td>4</td>\n",
              "      <td>75</td>\n",
              "      <td>1</td>\n",
              "      <td>1</td>\n",
              "      <td>0</td>\n",
              "      <td>1</td>\n",
              "      <td>0</td>\n",
              "      <td>1</td>\n",
              "      <td>1</td>\n",
              "      <td>0</td>\n",
              "      <td>0</td>\n",
              "      <td>1</td>\n",
              "      <td>0</td>\n",
              "    </tr>\n",
              "    <tr>\n",
              "      <th>3</th>\n",
              "      <td>4</td>\n",
              "      <td>A1</td>\n",
              "      <td>300</td>\n",
              "      <td>1</td>\n",
              "      <td>5</td>\n",
              "      <td>0</td>\n",
              "      <td>6</td>\n",
              "      <td>10</td>\n",
              "      <td>2</td>\n",
              "      <td>3</td>\n",
              "      <td>4</td>\n",
              "      <td>25</td>\n",
              "      <td>0</td>\n",
              "      <td>0</td>\n",
              "      <td>0</td>\n",
              "      <td>1</td>\n",
              "      <td>0</td>\n",
              "      <td>0</td>\n",
              "      <td>1</td>\n",
              "      <td>0</td>\n",
              "      <td>0</td>\n",
              "      <td>0</td>\n",
              "      <td>0</td>\n",
              "    </tr>\n",
              "    <tr>\n",
              "      <th>4</th>\n",
              "      <td>5</td>\n",
              "      <td>A1</td>\n",
              "      <td>600</td>\n",
              "      <td>2</td>\n",
              "      <td>1</td>\n",
              "      <td>4</td>\n",
              "      <td>10</td>\n",
              "      <td>2</td>\n",
              "      <td>6</td>\n",
              "      <td>0</td>\n",
              "      <td>0</td>\n",
              "      <td>99</td>\n",
              "      <td>0</td>\n",
              "      <td>5</td>\n",
              "      <td>0</td>\n",
              "      <td>1</td>\n",
              "      <td>0</td>\n",
              "      <td>1</td>\n",
              "      <td>1</td>\n",
              "      <td>1</td>\n",
              "      <td>0</td>\n",
              "      <td>1</td>\n",
              "      <td>1</td>\n",
              "    </tr>\n",
              "  </tbody>\n",
              "</table>\n",
              "</div>"
            ],
            "text/plain": [
              "   ID Motorway   SR  ...  Tree frog  Common newt  Great crested newt\n",
              "0   1       A1  600  ...          0            0                   0\n",
              "1   2       A1  700  ...          0            1                   0\n",
              "2   3       A1  200  ...          0            1                   0\n",
              "3   4       A1  300  ...          0            0                   0\n",
              "4   5       A1  600  ...          0            1                   1\n",
              "\n",
              "[5 rows x 23 columns]"
            ]
          },
          "metadata": {
            "tags": []
          },
          "execution_count": 135
        }
      ]
    },
    {
      "cell_type": "code",
      "metadata": {
        "colab": {
          "base_uri": "https://localhost:8080/",
          "height": 206
        },
        "id": "aEbQ7Bc0lP0M",
        "outputId": "4f68eb05-7c9b-4403-f703-741aea39f283"
      },
      "source": [
        "df.head(5)"
      ],
      "execution_count": 136,
      "outputs": [
        {
          "output_type": "execute_result",
          "data": {
            "text/html": [
              "<div>\n",
              "<style scoped>\n",
              "    .dataframe tbody tr th:only-of-type {\n",
              "        vertical-align: middle;\n",
              "    }\n",
              "\n",
              "    .dataframe tbody tr th {\n",
              "        vertical-align: top;\n",
              "    }\n",
              "\n",
              "    .dataframe thead th {\n",
              "        text-align: right;\n",
              "    }\n",
              "</style>\n",
              "<table border=\"1\" class=\"dataframe\">\n",
              "  <thead>\n",
              "    <tr style=\"text-align: right;\">\n",
              "      <th></th>\n",
              "      <th>ID</th>\n",
              "      <th>Motorway</th>\n",
              "      <th>SR</th>\n",
              "      <th>NR</th>\n",
              "      <th>TR</th>\n",
              "      <th>VR</th>\n",
              "      <th>SUR1</th>\n",
              "      <th>SUR2</th>\n",
              "      <th>SUR3</th>\n",
              "      <th>UR</th>\n",
              "      <th>FR</th>\n",
              "      <th>OR</th>\n",
              "      <th>RR</th>\n",
              "      <th>BR</th>\n",
              "      <th>MR</th>\n",
              "      <th>CR</th>\n",
              "      <th>Green frogs</th>\n",
              "      <th>Brown frogs</th>\n",
              "      <th>Common toad</th>\n",
              "      <th>Fire-bellied toad</th>\n",
              "      <th>Tree frog</th>\n",
              "      <th>Common newt</th>\n",
              "      <th>Great crested newt</th>\n",
              "    </tr>\n",
              "  </thead>\n",
              "  <tbody>\n",
              "    <tr>\n",
              "      <th>0</th>\n",
              "      <td>1</td>\n",
              "      <td>A1</td>\n",
              "      <td>600</td>\n",
              "      <td>1</td>\n",
              "      <td>1</td>\n",
              "      <td>4</td>\n",
              "      <td>6</td>\n",
              "      <td>2</td>\n",
              "      <td>10</td>\n",
              "      <td>0</td>\n",
              "      <td>0</td>\n",
              "      <td>50</td>\n",
              "      <td>0</td>\n",
              "      <td>0</td>\n",
              "      <td>0</td>\n",
              "      <td>1</td>\n",
              "      <td>0</td>\n",
              "      <td>0</td>\n",
              "      <td>0</td>\n",
              "      <td>0</td>\n",
              "      <td>0</td>\n",
              "      <td>0</td>\n",
              "      <td>0</td>\n",
              "    </tr>\n",
              "    <tr>\n",
              "      <th>1</th>\n",
              "      <td>2</td>\n",
              "      <td>A1</td>\n",
              "      <td>700</td>\n",
              "      <td>1</td>\n",
              "      <td>5</td>\n",
              "      <td>1</td>\n",
              "      <td>10</td>\n",
              "      <td>6</td>\n",
              "      <td>10</td>\n",
              "      <td>3</td>\n",
              "      <td>1</td>\n",
              "      <td>75</td>\n",
              "      <td>1</td>\n",
              "      <td>1</td>\n",
              "      <td>0</td>\n",
              "      <td>1</td>\n",
              "      <td>0</td>\n",
              "      <td>1</td>\n",
              "      <td>1</td>\n",
              "      <td>0</td>\n",
              "      <td>0</td>\n",
              "      <td>1</td>\n",
              "      <td>0</td>\n",
              "    </tr>\n",
              "    <tr>\n",
              "      <th>2</th>\n",
              "      <td>3</td>\n",
              "      <td>A1</td>\n",
              "      <td>200</td>\n",
              "      <td>1</td>\n",
              "      <td>5</td>\n",
              "      <td>1</td>\n",
              "      <td>10</td>\n",
              "      <td>6</td>\n",
              "      <td>10</td>\n",
              "      <td>3</td>\n",
              "      <td>4</td>\n",
              "      <td>75</td>\n",
              "      <td>1</td>\n",
              "      <td>1</td>\n",
              "      <td>0</td>\n",
              "      <td>1</td>\n",
              "      <td>0</td>\n",
              "      <td>1</td>\n",
              "      <td>1</td>\n",
              "      <td>0</td>\n",
              "      <td>0</td>\n",
              "      <td>1</td>\n",
              "      <td>0</td>\n",
              "    </tr>\n",
              "    <tr>\n",
              "      <th>3</th>\n",
              "      <td>4</td>\n",
              "      <td>A1</td>\n",
              "      <td>300</td>\n",
              "      <td>1</td>\n",
              "      <td>5</td>\n",
              "      <td>0</td>\n",
              "      <td>6</td>\n",
              "      <td>10</td>\n",
              "      <td>2</td>\n",
              "      <td>3</td>\n",
              "      <td>4</td>\n",
              "      <td>25</td>\n",
              "      <td>0</td>\n",
              "      <td>0</td>\n",
              "      <td>0</td>\n",
              "      <td>1</td>\n",
              "      <td>0</td>\n",
              "      <td>0</td>\n",
              "      <td>1</td>\n",
              "      <td>0</td>\n",
              "      <td>0</td>\n",
              "      <td>0</td>\n",
              "      <td>0</td>\n",
              "    </tr>\n",
              "    <tr>\n",
              "      <th>4</th>\n",
              "      <td>5</td>\n",
              "      <td>A1</td>\n",
              "      <td>600</td>\n",
              "      <td>2</td>\n",
              "      <td>1</td>\n",
              "      <td>4</td>\n",
              "      <td>10</td>\n",
              "      <td>2</td>\n",
              "      <td>6</td>\n",
              "      <td>0</td>\n",
              "      <td>0</td>\n",
              "      <td>99</td>\n",
              "      <td>0</td>\n",
              "      <td>5</td>\n",
              "      <td>0</td>\n",
              "      <td>1</td>\n",
              "      <td>0</td>\n",
              "      <td>1</td>\n",
              "      <td>1</td>\n",
              "      <td>1</td>\n",
              "      <td>0</td>\n",
              "      <td>1</td>\n",
              "      <td>1</td>\n",
              "    </tr>\n",
              "  </tbody>\n",
              "</table>\n",
              "</div>"
            ],
            "text/plain": [
              "   ID Motorway   SR  ...  Tree frog  Common newt  Great crested newt\n",
              "0   1       A1  600  ...          0            0                   0\n",
              "1   2       A1  700  ...          0            1                   0\n",
              "2   3       A1  200  ...          0            1                   0\n",
              "3   4       A1  300  ...          0            0                   0\n",
              "4   5       A1  600  ...          0            1                   1\n",
              "\n",
              "[5 rows x 23 columns]"
            ]
          },
          "metadata": {
            "tags": []
          },
          "execution_count": 136
        }
      ]
    },
    {
      "cell_type": "markdown",
      "metadata": {
        "id": "4SIy9yfWwgGC"
      },
      "source": [
        "# **3. Data preprocessing**"
      ]
    },
    {
      "cell_type": "code",
      "metadata": {
        "colab": {
          "base_uri": "https://localhost:8080/",
          "height": 0
        },
        "id": "Zbd9Z5-llQ77",
        "outputId": "bb59b7b9-db0e-4def-8a7d-b4229eca6359"
      },
      "source": [
        "df.info() #examine the dataset"
      ],
      "execution_count": 137,
      "outputs": [
        {
          "output_type": "stream",
          "text": [
            "<class 'pandas.core.frame.DataFrame'>\n",
            "RangeIndex: 189 entries, 0 to 188\n",
            "Data columns (total 23 columns):\n",
            " #   Column              Non-Null Count  Dtype \n",
            "---  ------              --------------  ----- \n",
            " 0   ID                  189 non-null    int64 \n",
            " 1   Motorway            189 non-null    object\n",
            " 2   SR                  189 non-null    int64 \n",
            " 3   NR                  189 non-null    int64 \n",
            " 4   TR                  189 non-null    int64 \n",
            " 5   VR                  189 non-null    int64 \n",
            " 6   SUR1                189 non-null    int64 \n",
            " 7   SUR2                189 non-null    int64 \n",
            " 8   SUR3                189 non-null    int64 \n",
            " 9   UR                  189 non-null    int64 \n",
            " 10  FR                  189 non-null    int64 \n",
            " 11  OR                  189 non-null    int64 \n",
            " 12  RR                  189 non-null    int64 \n",
            " 13  BR                  189 non-null    int64 \n",
            " 14  MR                  189 non-null    int64 \n",
            " 15  CR                  189 non-null    int64 \n",
            " 16  Green frogs         189 non-null    int64 \n",
            " 17  Brown frogs         189 non-null    int64 \n",
            " 18  Common toad         189 non-null    int64 \n",
            " 19  Fire-bellied toad   189 non-null    int64 \n",
            " 20  Tree frog           189 non-null    int64 \n",
            " 21  Common newt         189 non-null    int64 \n",
            " 22  Great crested newt  189 non-null    int64 \n",
            "dtypes: int64(22), object(1)\n",
            "memory usage: 34.1+ KB\n"
          ],
          "name": "stdout"
        }
      ]
    },
    {
      "cell_type": "code",
      "metadata": {
        "colab": {
          "base_uri": "https://localhost:8080/",
          "height": 0
        },
        "id": "Bo2jO4LDn-3N",
        "outputId": "7b27a4d3-1f18-457f-cfc4-89b50f43bbaa"
      },
      "source": [
        "df.isna().sum().sum() #Find the NaN values in the dataset\n"
      ],
      "execution_count": 138,
      "outputs": [
        {
          "output_type": "execute_result",
          "data": {
            "text/plain": [
              "0"
            ]
          },
          "metadata": {
            "tags": []
          },
          "execution_count": 138
        }
      ]
    },
    {
      "cell_type": "code",
      "metadata": {
        "colab": {
          "base_uri": "https://localhost:8080/",
          "height": 206
        },
        "id": "kq3-6vcsoYUN",
        "outputId": "f9a0cb28-010e-4a23-f7d6-6828b65a299b"
      },
      "source": [
        "df.drop(columns=['ID', 'Motorway'],inplace=True) # Id and motorway not so significant for the classification\n",
        "df.head()"
      ],
      "execution_count": 139,
      "outputs": [
        {
          "output_type": "execute_result",
          "data": {
            "text/html": [
              "<div>\n",
              "<style scoped>\n",
              "    .dataframe tbody tr th:only-of-type {\n",
              "        vertical-align: middle;\n",
              "    }\n",
              "\n",
              "    .dataframe tbody tr th {\n",
              "        vertical-align: top;\n",
              "    }\n",
              "\n",
              "    .dataframe thead th {\n",
              "        text-align: right;\n",
              "    }\n",
              "</style>\n",
              "<table border=\"1\" class=\"dataframe\">\n",
              "  <thead>\n",
              "    <tr style=\"text-align: right;\">\n",
              "      <th></th>\n",
              "      <th>SR</th>\n",
              "      <th>NR</th>\n",
              "      <th>TR</th>\n",
              "      <th>VR</th>\n",
              "      <th>SUR1</th>\n",
              "      <th>SUR2</th>\n",
              "      <th>SUR3</th>\n",
              "      <th>UR</th>\n",
              "      <th>FR</th>\n",
              "      <th>OR</th>\n",
              "      <th>RR</th>\n",
              "      <th>BR</th>\n",
              "      <th>MR</th>\n",
              "      <th>CR</th>\n",
              "      <th>Green frogs</th>\n",
              "      <th>Brown frogs</th>\n",
              "      <th>Common toad</th>\n",
              "      <th>Fire-bellied toad</th>\n",
              "      <th>Tree frog</th>\n",
              "      <th>Common newt</th>\n",
              "      <th>Great crested newt</th>\n",
              "    </tr>\n",
              "  </thead>\n",
              "  <tbody>\n",
              "    <tr>\n",
              "      <th>0</th>\n",
              "      <td>600</td>\n",
              "      <td>1</td>\n",
              "      <td>1</td>\n",
              "      <td>4</td>\n",
              "      <td>6</td>\n",
              "      <td>2</td>\n",
              "      <td>10</td>\n",
              "      <td>0</td>\n",
              "      <td>0</td>\n",
              "      <td>50</td>\n",
              "      <td>0</td>\n",
              "      <td>0</td>\n",
              "      <td>0</td>\n",
              "      <td>1</td>\n",
              "      <td>0</td>\n",
              "      <td>0</td>\n",
              "      <td>0</td>\n",
              "      <td>0</td>\n",
              "      <td>0</td>\n",
              "      <td>0</td>\n",
              "      <td>0</td>\n",
              "    </tr>\n",
              "    <tr>\n",
              "      <th>1</th>\n",
              "      <td>700</td>\n",
              "      <td>1</td>\n",
              "      <td>5</td>\n",
              "      <td>1</td>\n",
              "      <td>10</td>\n",
              "      <td>6</td>\n",
              "      <td>10</td>\n",
              "      <td>3</td>\n",
              "      <td>1</td>\n",
              "      <td>75</td>\n",
              "      <td>1</td>\n",
              "      <td>1</td>\n",
              "      <td>0</td>\n",
              "      <td>1</td>\n",
              "      <td>0</td>\n",
              "      <td>1</td>\n",
              "      <td>1</td>\n",
              "      <td>0</td>\n",
              "      <td>0</td>\n",
              "      <td>1</td>\n",
              "      <td>0</td>\n",
              "    </tr>\n",
              "    <tr>\n",
              "      <th>2</th>\n",
              "      <td>200</td>\n",
              "      <td>1</td>\n",
              "      <td>5</td>\n",
              "      <td>1</td>\n",
              "      <td>10</td>\n",
              "      <td>6</td>\n",
              "      <td>10</td>\n",
              "      <td>3</td>\n",
              "      <td>4</td>\n",
              "      <td>75</td>\n",
              "      <td>1</td>\n",
              "      <td>1</td>\n",
              "      <td>0</td>\n",
              "      <td>1</td>\n",
              "      <td>0</td>\n",
              "      <td>1</td>\n",
              "      <td>1</td>\n",
              "      <td>0</td>\n",
              "      <td>0</td>\n",
              "      <td>1</td>\n",
              "      <td>0</td>\n",
              "    </tr>\n",
              "    <tr>\n",
              "      <th>3</th>\n",
              "      <td>300</td>\n",
              "      <td>1</td>\n",
              "      <td>5</td>\n",
              "      <td>0</td>\n",
              "      <td>6</td>\n",
              "      <td>10</td>\n",
              "      <td>2</td>\n",
              "      <td>3</td>\n",
              "      <td>4</td>\n",
              "      <td>25</td>\n",
              "      <td>0</td>\n",
              "      <td>0</td>\n",
              "      <td>0</td>\n",
              "      <td>1</td>\n",
              "      <td>0</td>\n",
              "      <td>0</td>\n",
              "      <td>1</td>\n",
              "      <td>0</td>\n",
              "      <td>0</td>\n",
              "      <td>0</td>\n",
              "      <td>0</td>\n",
              "    </tr>\n",
              "    <tr>\n",
              "      <th>4</th>\n",
              "      <td>600</td>\n",
              "      <td>2</td>\n",
              "      <td>1</td>\n",
              "      <td>4</td>\n",
              "      <td>10</td>\n",
              "      <td>2</td>\n",
              "      <td>6</td>\n",
              "      <td>0</td>\n",
              "      <td>0</td>\n",
              "      <td>99</td>\n",
              "      <td>0</td>\n",
              "      <td>5</td>\n",
              "      <td>0</td>\n",
              "      <td>1</td>\n",
              "      <td>0</td>\n",
              "      <td>1</td>\n",
              "      <td>1</td>\n",
              "      <td>1</td>\n",
              "      <td>0</td>\n",
              "      <td>1</td>\n",
              "      <td>1</td>\n",
              "    </tr>\n",
              "  </tbody>\n",
              "</table>\n",
              "</div>"
            ],
            "text/plain": [
              "    SR  NR  TR  ...  Tree frog  Common newt  Great crested newt\n",
              "0  600   1   1  ...          0            0                   0\n",
              "1  700   1   5  ...          0            1                   0\n",
              "2  200   1   5  ...          0            1                   0\n",
              "3  300   1   5  ...          0            0                   0\n",
              "4  600   2   1  ...          0            1                   1\n",
              "\n",
              "[5 rows x 21 columns]"
            ]
          },
          "metadata": {
            "tags": []
          },
          "execution_count": 139
        }
      ]
    },
    {
      "cell_type": "markdown",
      "metadata": {
        "id": "dCSDwhzaw8S8"
      },
      "source": [
        "# **There are 189 samples. The following section analyses the diffrence between the positive and negative samples of the target labels and choose one with the smallest diffrence**"
      ]
    },
    {
      "cell_type": "code",
      "metadata": {
        "colab": {
          "base_uri": "https://localhost:8080/",
          "height": 0
        },
        "id": "GGRL0kkHpaVI",
        "outputId": "939f248c-ae68-4240-cd06-216e14f12890"
      },
      "source": [
        "df[\"Tree frog\"].value_counts() #diff = 47"
      ],
      "execution_count": 118,
      "outputs": [
        {
          "output_type": "execute_result",
          "data": {
            "text/plain": [
              "0    118\n",
              "1     71\n",
              "Name: Tree frog, dtype: int64"
            ]
          },
          "metadata": {
            "tags": []
          },
          "execution_count": 118
        }
      ]
    },
    {
      "cell_type": "code",
      "metadata": {
        "colab": {
          "base_uri": "https://localhost:8080/",
          "height": 0
        },
        "id": "uiw9af2Nr64K",
        "outputId": "0b81c34f-f85d-42af-db00-5bca3b84e976"
      },
      "source": [
        "df[\"Fire-bellied toad\"].value_counts() #diff = 73"
      ],
      "execution_count": 119,
      "outputs": [
        {
          "output_type": "execute_result",
          "data": {
            "text/plain": [
              "0    131\n",
              "1     58\n",
              "Name: Fire-bellied toad, dtype: int64"
            ]
          },
          "metadata": {
            "tags": []
          },
          "execution_count": 119
        }
      ]
    },
    {
      "cell_type": "code",
      "metadata": {
        "colab": {
          "base_uri": "https://localhost:8080/",
          "height": 0
        },
        "id": "SLhupnvdsGJP",
        "outputId": "f982941a-e806-4e94-b0d0-89ca851c73bb"
      },
      "source": [
        "df[\"Common newt\"].value_counts() #diff = 73\n",
        "\t"
      ],
      "execution_count": 120,
      "outputs": [
        {
          "output_type": "execute_result",
          "data": {
            "text/plain": [
              "0    131\n",
              "1     58\n",
              "Name: Common newt, dtype: int64"
            ]
          },
          "metadata": {
            "tags": []
          },
          "execution_count": 120
        }
      ]
    },
    {
      "cell_type": "code",
      "metadata": {
        "colab": {
          "base_uri": "https://localhost:8080/",
          "height": 0
        },
        "id": "E9BalIdCsMro",
        "outputId": "d090d934-776d-492f-f113-442a9858b3f7"
      },
      "source": [
        "df[\"Great crested newt\"].value_counts() #diff = 147\n"
      ],
      "execution_count": 121,
      "outputs": [
        {
          "output_type": "execute_result",
          "data": {
            "text/plain": [
              "0    168\n",
              "1     21\n",
              "Name: Great crested newt, dtype: int64"
            ]
          },
          "metadata": {
            "tags": []
          },
          "execution_count": 121
        }
      ]
    },
    {
      "cell_type": "code",
      "metadata": {
        "colab": {
          "base_uri": "https://localhost:8080/",
          "height": 0
        },
        "id": "uEN19L7hsV10",
        "outputId": "d99f4cae-fe30-48ec-b2f3-ef759d015422"
      },
      "source": [
        "df[\"Green frogs\"].value_counts() #diff = 27 - smallest\n"
      ],
      "execution_count": 122,
      "outputs": [
        {
          "output_type": "execute_result",
          "data": {
            "text/plain": [
              "1    108\n",
              "0     81\n",
              "Name: Green frogs, dtype: int64"
            ]
          },
          "metadata": {
            "tags": []
          },
          "execution_count": 122
        }
      ]
    },
    {
      "cell_type": "code",
      "metadata": {
        "colab": {
          "base_uri": "https://localhost:8080/",
          "height": 0
        },
        "id": "-Pd4lKcNsevQ",
        "outputId": "52b8227b-d454-486c-d912-0b55ce118340"
      },
      "source": [
        "df[\"Brown frogs\"].value_counts() #diff = 107\n",
        "\t"
      ],
      "execution_count": 123,
      "outputs": [
        {
          "output_type": "execute_result",
          "data": {
            "text/plain": [
              "1    148\n",
              "0     41\n",
              "Name: Brown frogs, dtype: int64"
            ]
          },
          "metadata": {
            "tags": []
          },
          "execution_count": 123
        }
      ]
    },
    {
      "cell_type": "code",
      "metadata": {
        "colab": {
          "base_uri": "https://localhost:8080/",
          "height": 0
        },
        "id": "f9Ig2-tlswIz",
        "outputId": "971ab933-d0a7-4f47-9541-9eee284378a6"
      },
      "source": [
        "df[\"Common toad\"].value_counts() #diff = 59\n",
        "\n"
      ],
      "execution_count": 124,
      "outputs": [
        {
          "output_type": "execute_result",
          "data": {
            "text/plain": [
              "1    124\n",
              "0     65\n",
              "Name: Common toad, dtype: int64"
            ]
          },
          "metadata": {
            "tags": []
          },
          "execution_count": 124
        }
      ]
    },
    {
      "cell_type": "markdown",
      "metadata": {
        "id": "k_S8SCwaxPtE"
      },
      "source": [
        "# **Since the green frog has the samllest diffrence in dataset I have used it as the target variable for the remaining part of the code**"
      ]
    },
    {
      "cell_type": "code",
      "metadata": {
        "colab": {
          "base_uri": "https://localhost:8080/",
          "height": 206
        },
        "id": "Sea_RFADpjnh",
        "outputId": "ef30bde4-60c7-4e76-a9d5-c19d9d20d7e9"
      },
      "source": [
        "df.drop(columns=[\"Fire-bellied toad\",\"Brown frogs\",\"Common toad\",\"Tree frog\",\"Common newt\",\"Great crested newt\"],inplace=True) #Drop all other targets\n",
        "df.head()"
      ],
      "execution_count": 140,
      "outputs": [
        {
          "output_type": "execute_result",
          "data": {
            "text/html": [
              "<div>\n",
              "<style scoped>\n",
              "    .dataframe tbody tr th:only-of-type {\n",
              "        vertical-align: middle;\n",
              "    }\n",
              "\n",
              "    .dataframe tbody tr th {\n",
              "        vertical-align: top;\n",
              "    }\n",
              "\n",
              "    .dataframe thead th {\n",
              "        text-align: right;\n",
              "    }\n",
              "</style>\n",
              "<table border=\"1\" class=\"dataframe\">\n",
              "  <thead>\n",
              "    <tr style=\"text-align: right;\">\n",
              "      <th></th>\n",
              "      <th>SR</th>\n",
              "      <th>NR</th>\n",
              "      <th>TR</th>\n",
              "      <th>VR</th>\n",
              "      <th>SUR1</th>\n",
              "      <th>SUR2</th>\n",
              "      <th>SUR3</th>\n",
              "      <th>UR</th>\n",
              "      <th>FR</th>\n",
              "      <th>OR</th>\n",
              "      <th>RR</th>\n",
              "      <th>BR</th>\n",
              "      <th>MR</th>\n",
              "      <th>CR</th>\n",
              "      <th>Green frogs</th>\n",
              "    </tr>\n",
              "  </thead>\n",
              "  <tbody>\n",
              "    <tr>\n",
              "      <th>0</th>\n",
              "      <td>600</td>\n",
              "      <td>1</td>\n",
              "      <td>1</td>\n",
              "      <td>4</td>\n",
              "      <td>6</td>\n",
              "      <td>2</td>\n",
              "      <td>10</td>\n",
              "      <td>0</td>\n",
              "      <td>0</td>\n",
              "      <td>50</td>\n",
              "      <td>0</td>\n",
              "      <td>0</td>\n",
              "      <td>0</td>\n",
              "      <td>1</td>\n",
              "      <td>0</td>\n",
              "    </tr>\n",
              "    <tr>\n",
              "      <th>1</th>\n",
              "      <td>700</td>\n",
              "      <td>1</td>\n",
              "      <td>5</td>\n",
              "      <td>1</td>\n",
              "      <td>10</td>\n",
              "      <td>6</td>\n",
              "      <td>10</td>\n",
              "      <td>3</td>\n",
              "      <td>1</td>\n",
              "      <td>75</td>\n",
              "      <td>1</td>\n",
              "      <td>1</td>\n",
              "      <td>0</td>\n",
              "      <td>1</td>\n",
              "      <td>0</td>\n",
              "    </tr>\n",
              "    <tr>\n",
              "      <th>2</th>\n",
              "      <td>200</td>\n",
              "      <td>1</td>\n",
              "      <td>5</td>\n",
              "      <td>1</td>\n",
              "      <td>10</td>\n",
              "      <td>6</td>\n",
              "      <td>10</td>\n",
              "      <td>3</td>\n",
              "      <td>4</td>\n",
              "      <td>75</td>\n",
              "      <td>1</td>\n",
              "      <td>1</td>\n",
              "      <td>0</td>\n",
              "      <td>1</td>\n",
              "      <td>0</td>\n",
              "    </tr>\n",
              "    <tr>\n",
              "      <th>3</th>\n",
              "      <td>300</td>\n",
              "      <td>1</td>\n",
              "      <td>5</td>\n",
              "      <td>0</td>\n",
              "      <td>6</td>\n",
              "      <td>10</td>\n",
              "      <td>2</td>\n",
              "      <td>3</td>\n",
              "      <td>4</td>\n",
              "      <td>25</td>\n",
              "      <td>0</td>\n",
              "      <td>0</td>\n",
              "      <td>0</td>\n",
              "      <td>1</td>\n",
              "      <td>0</td>\n",
              "    </tr>\n",
              "    <tr>\n",
              "      <th>4</th>\n",
              "      <td>600</td>\n",
              "      <td>2</td>\n",
              "      <td>1</td>\n",
              "      <td>4</td>\n",
              "      <td>10</td>\n",
              "      <td>2</td>\n",
              "      <td>6</td>\n",
              "      <td>0</td>\n",
              "      <td>0</td>\n",
              "      <td>99</td>\n",
              "      <td>0</td>\n",
              "      <td>5</td>\n",
              "      <td>0</td>\n",
              "      <td>1</td>\n",
              "      <td>0</td>\n",
              "    </tr>\n",
              "  </tbody>\n",
              "</table>\n",
              "</div>"
            ],
            "text/plain": [
              "    SR  NR  TR  VR  SUR1  SUR2  SUR3  UR  FR  OR  RR  BR  MR  CR  Green frogs\n",
              "0  600   1   1   4     6     2    10   0   0  50   0   0   0   1            0\n",
              "1  700   1   5   1    10     6    10   3   1  75   1   1   0   1            0\n",
              "2  200   1   5   1    10     6    10   3   4  75   1   1   0   1            0\n",
              "3  300   1   5   0     6    10     2   3   4  25   0   0   0   1            0\n",
              "4  600   2   1   4    10     2     6   0   0  99   0   5   0   1            0"
            ]
          },
          "metadata": {
            "tags": []
          },
          "execution_count": 140
        }
      ]
    },
    {
      "cell_type": "code",
      "metadata": {
        "colab": {
          "base_uri": "https://localhost:8080/",
          "height": 206
        },
        "id": "aUYd4uXoo-l2",
        "outputId": "11e5b703-accd-4a1f-bdb0-33746c9020db"
      },
      "source": [
        "from sklearn.preprocessing import StandardScaler #Standard scaling of the data\n",
        "scaler = StandardScaler()\n",
        "df[[\"SR\",\"NR\",\"TR\",\"VR\",\"SUR1\",\"SUR2\",\"SUR3\",\"UR\",\"FR\",\"OR\",\"RR\",\"BR\",\"MR\",\"CR\"]] = scaler.fit_transform(df[[\"SR\",\"NR\",\"TR\",\"VR\",\"SUR1\",\"SUR2\",\"SUR3\",\"UR\",\"FR\",\"OR\",\"RR\",\"BR\",\"MR\",\"CR\"]])\n",
        "df.head()"
      ],
      "execution_count": 126,
      "outputs": [
        {
          "output_type": "execute_result",
          "data": {
            "text/html": [
              "<div>\n",
              "<style scoped>\n",
              "    .dataframe tbody tr th:only-of-type {\n",
              "        vertical-align: middle;\n",
              "    }\n",
              "\n",
              "    .dataframe tbody tr th {\n",
              "        vertical-align: top;\n",
              "    }\n",
              "\n",
              "    .dataframe thead th {\n",
              "        text-align: right;\n",
              "    }\n",
              "</style>\n",
              "<table border=\"1\" class=\"dataframe\">\n",
              "  <thead>\n",
              "    <tr style=\"text-align: right;\">\n",
              "      <th></th>\n",
              "      <th>SR</th>\n",
              "      <th>NR</th>\n",
              "      <th>TR</th>\n",
              "      <th>VR</th>\n",
              "      <th>SUR1</th>\n",
              "      <th>SUR2</th>\n",
              "      <th>SUR3</th>\n",
              "      <th>UR</th>\n",
              "      <th>FR</th>\n",
              "      <th>OR</th>\n",
              "      <th>RR</th>\n",
              "      <th>BR</th>\n",
              "      <th>MR</th>\n",
              "      <th>CR</th>\n",
              "      <th>Green frogs</th>\n",
              "    </tr>\n",
              "  </thead>\n",
              "  <tbody>\n",
              "    <tr>\n",
              "      <th>0</th>\n",
              "      <td>-0.195806</td>\n",
              "      <td>-0.367544</td>\n",
              "      <td>-0.708806</td>\n",
              "      <td>1.594650</td>\n",
              "      <td>0.515892</td>\n",
              "      <td>-0.967387</td>\n",
              "      <td>1.266070</td>\n",
              "      <td>-0.641306</td>\n",
              "      <td>-0.628821</td>\n",
              "      <td>-2.013025</td>\n",
              "      <td>-0.928337</td>\n",
              "      <td>-0.950140</td>\n",
              "      <td>-0.160817</td>\n",
              "      <td>-0.127</td>\n",
              "      <td>0</td>\n",
              "    </tr>\n",
              "    <tr>\n",
              "      <th>1</th>\n",
              "      <td>-0.193638</td>\n",
              "      <td>-0.367544</td>\n",
              "      <td>0.008540</td>\n",
              "      <td>-0.688599</td>\n",
              "      <td>1.683599</td>\n",
              "      <td>0.173556</td>\n",
              "      <td>1.266070</td>\n",
              "      <td>1.645616</td>\n",
              "      <td>0.113974</td>\n",
              "      <td>-0.753718</td>\n",
              "      <td>-0.530478</td>\n",
              "      <td>-0.570486</td>\n",
              "      <td>-0.160817</td>\n",
              "      <td>-0.127</td>\n",
              "      <td>0</td>\n",
              "    </tr>\n",
              "    <tr>\n",
              "      <th>2</th>\n",
              "      <td>-0.204477</td>\n",
              "      <td>-0.367544</td>\n",
              "      <td>0.008540</td>\n",
              "      <td>-0.688599</td>\n",
              "      <td>1.683599</td>\n",
              "      <td>0.173556</td>\n",
              "      <td>1.266070</td>\n",
              "      <td>1.645616</td>\n",
              "      <td>2.342358</td>\n",
              "      <td>-0.753718</td>\n",
              "      <td>-0.530478</td>\n",
              "      <td>-0.570486</td>\n",
              "      <td>-0.160817</td>\n",
              "      <td>-0.127</td>\n",
              "      <td>0</td>\n",
              "    </tr>\n",
              "    <tr>\n",
              "      <th>3</th>\n",
              "      <td>-0.202309</td>\n",
              "      <td>-0.367544</td>\n",
              "      <td>0.008540</td>\n",
              "      <td>-1.449681</td>\n",
              "      <td>0.515892</td>\n",
              "      <td>1.314499</td>\n",
              "      <td>-1.169423</td>\n",
              "      <td>1.645616</td>\n",
              "      <td>2.342358</td>\n",
              "      <td>-3.272331</td>\n",
              "      <td>-0.928337</td>\n",
              "      <td>-0.950140</td>\n",
              "      <td>-0.160817</td>\n",
              "      <td>-0.127</td>\n",
              "      <td>0</td>\n",
              "    </tr>\n",
              "    <tr>\n",
              "      <th>4</th>\n",
              "      <td>-0.195806</td>\n",
              "      <td>0.281669</td>\n",
              "      <td>-0.708806</td>\n",
              "      <td>1.594650</td>\n",
              "      <td>1.683599</td>\n",
              "      <td>-0.967387</td>\n",
              "      <td>0.048323</td>\n",
              "      <td>-0.641306</td>\n",
              "      <td>-0.628821</td>\n",
              "      <td>0.455216</td>\n",
              "      <td>-0.928337</td>\n",
              "      <td>0.948131</td>\n",
              "      <td>-0.160817</td>\n",
              "      <td>-0.127</td>\n",
              "      <td>0</td>\n",
              "    </tr>\n",
              "  </tbody>\n",
              "</table>\n",
              "</div>"
            ],
            "text/plain": [
              "         SR        NR        TR  ...        MR     CR  Green frogs\n",
              "0 -0.195806 -0.367544 -0.708806  ... -0.160817 -0.127            0\n",
              "1 -0.193638 -0.367544  0.008540  ... -0.160817 -0.127            0\n",
              "2 -0.204477 -0.367544  0.008540  ... -0.160817 -0.127            0\n",
              "3 -0.202309 -0.367544  0.008540  ... -0.160817 -0.127            0\n",
              "4 -0.195806  0.281669 -0.708806  ... -0.160817 -0.127            0\n",
              "\n",
              "[5 rows x 15 columns]"
            ]
          },
          "metadata": {
            "tags": []
          },
          "execution_count": 126
        }
      ]
    },
    {
      "cell_type": "code",
      "metadata": {
        "colab": {
          "base_uri": "https://localhost:8080/",
          "height": 206
        },
        "id": "efLAZZZPrioC",
        "outputId": "b7cd1dbc-3025-40e5-86b1-ba6185477fcf"
      },
      "source": [
        "from sklearn.preprocessing import MinMaxScaler #Min max scaling\n",
        "scaler = MinMaxScaler()\n",
        "df[[\"SR\",\"NR\",\"TR\",\"VR\",\"SUR1\",\"SUR2\",\"SUR3\",\"UR\",\"FR\",\"OR\",\"RR\",\"BR\",\"MR\",\"CR\"]] = scaler.fit_transform(df[[\"SR\",\"NR\",\"TR\",\"VR\",\"SUR1\",\"SUR2\",\"SUR3\",\"UR\",\"FR\",\"OR\",\"RR\",\"BR\",\"MR\",\"CR\"]])\n",
        "df.head()"
      ],
      "execution_count": 141,
      "outputs": [
        {
          "output_type": "execute_result",
          "data": {
            "text/html": [
              "<div>\n",
              "<style scoped>\n",
              "    .dataframe tbody tr th:only-of-type {\n",
              "        vertical-align: middle;\n",
              "    }\n",
              "\n",
              "    .dataframe tbody tr th {\n",
              "        vertical-align: top;\n",
              "    }\n",
              "\n",
              "    .dataframe thead th {\n",
              "        text-align: right;\n",
              "    }\n",
              "</style>\n",
              "<table border=\"1\" class=\"dataframe\">\n",
              "  <thead>\n",
              "    <tr style=\"text-align: right;\">\n",
              "      <th></th>\n",
              "      <th>SR</th>\n",
              "      <th>NR</th>\n",
              "      <th>TR</th>\n",
              "      <th>VR</th>\n",
              "      <th>SUR1</th>\n",
              "      <th>SUR2</th>\n",
              "      <th>SUR3</th>\n",
              "      <th>UR</th>\n",
              "      <th>FR</th>\n",
              "      <th>OR</th>\n",
              "      <th>RR</th>\n",
              "      <th>BR</th>\n",
              "      <th>MR</th>\n",
              "      <th>CR</th>\n",
              "      <th>Green frogs</th>\n",
              "    </tr>\n",
              "  </thead>\n",
              "  <tbody>\n",
              "    <tr>\n",
              "      <th>0</th>\n",
              "      <td>0.00114</td>\n",
              "      <td>0.000000</td>\n",
              "      <td>0.000000</td>\n",
              "      <td>1.00</td>\n",
              "      <td>0.384615</td>\n",
              "      <td>0.1</td>\n",
              "      <td>0.9</td>\n",
              "      <td>0.0</td>\n",
              "      <td>0.00</td>\n",
              "      <td>0.333333</td>\n",
              "      <td>0.0</td>\n",
              "      <td>0.0</td>\n",
              "      <td>0.0</td>\n",
              "      <td>0.0</td>\n",
              "      <td>0</td>\n",
              "    </tr>\n",
              "    <tr>\n",
              "      <th>1</th>\n",
              "      <td>0.00134</td>\n",
              "      <td>0.000000</td>\n",
              "      <td>0.285714</td>\n",
              "      <td>0.25</td>\n",
              "      <td>0.692308</td>\n",
              "      <td>0.5</td>\n",
              "      <td>0.9</td>\n",
              "      <td>1.0</td>\n",
              "      <td>0.25</td>\n",
              "      <td>0.666667</td>\n",
              "      <td>0.1</td>\n",
              "      <td>0.1</td>\n",
              "      <td>0.0</td>\n",
              "      <td>0.0</td>\n",
              "      <td>0</td>\n",
              "    </tr>\n",
              "    <tr>\n",
              "      <th>2</th>\n",
              "      <td>0.00034</td>\n",
              "      <td>0.000000</td>\n",
              "      <td>0.285714</td>\n",
              "      <td>0.25</td>\n",
              "      <td>0.692308</td>\n",
              "      <td>0.5</td>\n",
              "      <td>0.9</td>\n",
              "      <td>1.0</td>\n",
              "      <td>1.00</td>\n",
              "      <td>0.666667</td>\n",
              "      <td>0.1</td>\n",
              "      <td>0.1</td>\n",
              "      <td>0.0</td>\n",
              "      <td>0.0</td>\n",
              "      <td>0</td>\n",
              "    </tr>\n",
              "    <tr>\n",
              "      <th>3</th>\n",
              "      <td>0.00054</td>\n",
              "      <td>0.000000</td>\n",
              "      <td>0.285714</td>\n",
              "      <td>0.00</td>\n",
              "      <td>0.384615</td>\n",
              "      <td>0.9</td>\n",
              "      <td>0.1</td>\n",
              "      <td>1.0</td>\n",
              "      <td>1.00</td>\n",
              "      <td>0.000000</td>\n",
              "      <td>0.0</td>\n",
              "      <td>0.0</td>\n",
              "      <td>0.0</td>\n",
              "      <td>0.0</td>\n",
              "      <td>0</td>\n",
              "    </tr>\n",
              "    <tr>\n",
              "      <th>4</th>\n",
              "      <td>0.00114</td>\n",
              "      <td>0.090909</td>\n",
              "      <td>0.000000</td>\n",
              "      <td>1.00</td>\n",
              "      <td>0.692308</td>\n",
              "      <td>0.1</td>\n",
              "      <td>0.5</td>\n",
              "      <td>0.0</td>\n",
              "      <td>0.00</td>\n",
              "      <td>0.986667</td>\n",
              "      <td>0.0</td>\n",
              "      <td>0.5</td>\n",
              "      <td>0.0</td>\n",
              "      <td>0.0</td>\n",
              "      <td>0</td>\n",
              "    </tr>\n",
              "  </tbody>\n",
              "</table>\n",
              "</div>"
            ],
            "text/plain": [
              "        SR        NR        TR    VR      SUR1  ...   RR   BR   MR   CR  Green frogs\n",
              "0  0.00114  0.000000  0.000000  1.00  0.384615  ...  0.0  0.0  0.0  0.0            0\n",
              "1  0.00134  0.000000  0.285714  0.25  0.692308  ...  0.1  0.1  0.0  0.0            0\n",
              "2  0.00034  0.000000  0.285714  0.25  0.692308  ...  0.1  0.1  0.0  0.0            0\n",
              "3  0.00054  0.000000  0.285714  0.00  0.384615  ...  0.0  0.0  0.0  0.0            0\n",
              "4  0.00114  0.090909  0.000000  1.00  0.692308  ...  0.0  0.5  0.0  0.0            0\n",
              "\n",
              "[5 rows x 15 columns]"
            ]
          },
          "metadata": {
            "tags": []
          },
          "execution_count": 141
        }
      ]
    },
    {
      "cell_type": "code",
      "metadata": {
        "id": "SXKufh6xp_q8"
      },
      "source": [
        "X_data = df.drop('Green frogs',axis=1) #Assign green frog as the target variable\n",
        "Y_data = df['Green frogs']"
      ],
      "execution_count": 142,
      "outputs": []
    },
    {
      "cell_type": "markdown",
      "metadata": {
        "id": "N_1k16gZxpIR"
      },
      "source": [
        "# **STEP4: Assign the train and test data to variables**"
      ]
    },
    {
      "cell_type": "code",
      "metadata": {
        "id": "Ca2QTTL3qhzr"
      },
      "source": [
        "from sklearn.model_selection import train_test_split    \n",
        "X_train,X_test,Y_train,Y_test = train_test_split(X_data,Y_data,test_size = 0.2)"
      ],
      "execution_count": 143,
      "outputs": []
    },
    {
      "cell_type": "markdown",
      "metadata": {
        "id": "-edzrG5lxxZZ"
      },
      "source": [
        "# **Inspect size**"
      ]
    },
    {
      "cell_type": "code",
      "metadata": {
        "colab": {
          "base_uri": "https://localhost:8080/",
          "height": 0
        },
        "id": "UXZz66d3q1sW",
        "outputId": "445bb003-7439-4dc2-84eb-b2254e6e3d08"
      },
      "source": [
        "print(\"X TRaIN SIZE : \",X_train.shape,\" X TEST SIZE : \",X_test.shape,\"Y TRaIN SIZE : \",Y_train.shape,\"Y TRaIN SIZE : \",Y_test.shape)"
      ],
      "execution_count": 144,
      "outputs": [
        {
          "output_type": "stream",
          "text": [
            "X TRaIN SIZE :  (151, 14)  X TEST SIZE :  (38, 14) Y TRaIN SIZE :  (151,) Y TRaIN SIZE :  (38,)\n"
          ],
          "name": "stdout"
        }
      ]
    },
    {
      "cell_type": "markdown",
      "metadata": {
        "id": "mj4FKSUcx08C"
      },
      "source": [
        "# **STEP 5: Train model**\n",
        "# **STEP 6: Predict model with the test data**\n",
        "# **STEP 7: Analyse metrics**"
      ]
    },
    {
      "cell_type": "markdown",
      "metadata": {
        "id": "qcWtxDzDyBXJ"
      },
      "source": [
        "# **Model - KNN + Standard scaler**\n"
      ]
    },
    {
      "cell_type": "code",
      "metadata": {
        "colab": {
          "base_uri": "https://localhost:8080/",
          "height": 321
        },
        "id": "vT8T8qMMrDB3",
        "outputId": "582b266c-844d-4d1f-898a-af661132dd78"
      },
      "source": [
        "#Standard scaler \n",
        "from sklearn.neighbors import KNeighborsClassifier  \n",
        "\n",
        "classifier= KNeighborsClassifier(n_neighbors=5, metric='minkowski', p=2 )  \n",
        "\n",
        "classifier.fit(X_train,Y_train)\n",
        "Y_pred = classifier.predict(X_test)\n",
        "print(\"Error:\",mean_squared_error(Y_test, Y_pred))\n",
        "print(\"Accuracy:\",accuracy_score(Y_test,Y_pred))\n",
        "cnf = confusion_matrix(Y_test,Y_pred)\n",
        "sns.heatmap(cnf,annot=True)"
      ],
      "execution_count": 130,
      "outputs": [
        {
          "output_type": "stream",
          "text": [
            "Error: 0.4473684210526316\n",
            "Accuracy: 0.5526315789473685\n"
          ],
          "name": "stdout"
        },
        {
          "output_type": "execute_result",
          "data": {
            "text/plain": [
              "<matplotlib.axes._subplots.AxesSubplot at 0x7f710065b4d0>"
            ]
          },
          "metadata": {
            "tags": []
          },
          "execution_count": 130
        },
        {
          "output_type": "display_data",
          "data": {
            "image/png": "[encoded data removed]",
            "text/plain": [
              "<Figure size 432x288 with 2 Axes>"
            ]
          },
          "metadata": {
            "tags": [],
            "needs_background": "light"
          }
        }
      ]
    },
    {
      "cell_type": "markdown",
      "metadata": {
        "id": "2S6F2fEhyIIh"
      },
      "source": [
        "# **Random forest + standard scaler**"
      ]
    },
    {
      "cell_type": "code",
      "metadata": {
        "colab": {
          "base_uri": "https://localhost:8080/",
          "height": 321
        },
        "id": "qAXnVTRErRm3",
        "outputId": "2bf8a314-1f0e-4848-f5d2-e73363e33d9e"
      },
      "source": [
        "from sklearn import ensemble\n",
        "classifier = ensemble.RandomForestClassifier(criterion='gini')\n",
        "classifier.fit(X_train,Y_train)\n",
        "Y_pred = classifier.predict(X_test)\n",
        "print(\"Error:\",mean_squared_error(Y_test, Y_pred))\n",
        "print(\"Accuracy:\",accuracy_score(Y_test,Y_pred))\n",
        "cnf = confusion_matrix(Y_test,Y_pred)\n",
        "sns.heatmap(cnf,annot=True)"
      ],
      "execution_count": 131,
      "outputs": [
        {
          "output_type": "stream",
          "text": [
            "Error: 0.42105263157894735\n",
            "Accuracy: 0.5789473684210527\n"
          ],
          "name": "stdout"
        },
        {
          "output_type": "execute_result",
          "data": {
            "text/plain": [
              "<matplotlib.axes._subplots.AxesSubplot at 0x7f7100592390>"
            ]
          },
          "metadata": {
            "tags": []
          },
          "execution_count": 131
        },
        {
          "output_type": "display_data",
          "data": {
            "image/png": "[encoded data removed]",
            "text/plain": [
              "<Figure size 432x288 with 2 Axes>"
            ]
          },
          "metadata": {
            "tags": [],
            "needs_background": "light"
          }
        }
      ]
    },
    {
      "cell_type": "markdown",
      "metadata": {
        "id": "S-R6QshQyNtj"
      },
      "source": [
        "# **SVM + Standard scaler**"
      ]
    },
    {
      "cell_type": "code",
      "metadata": {
        "colab": {
          "base_uri": "https://localhost:8080/",
          "height": 321
        },
        "id": "K4SsaF-ara4H",
        "outputId": "cce40cda-3444-42d4-9dc4-a2ec3b51927d"
      },
      "source": [
        "from sklearn.svm import SVC \n",
        "classifier = SVC(kernel='linear')\n",
        "classifier.fit(X_train,Y_train)\n",
        "Y_pred = classifier.predict(X_test)\n",
        "print(\"Error:\",mean_squared_error(Y_test, Y_pred))\n",
        "print(\"Accuracy:\",accuracy_score(Y_test,Y_pred))\n",
        "cnf = confusion_matrix(Y_test,Y_pred)\n",
        "sns.heatmap(cnf,annot=True)"
      ],
      "execution_count": 132,
      "outputs": [
        {
          "output_type": "stream",
          "text": [
            "Error: 0.4473684210526316\n",
            "Accuracy: 0.5526315789473685\n"
          ],
          "name": "stdout"
        },
        {
          "output_type": "execute_result",
          "data": {
            "text/plain": [
              "<matplotlib.axes._subplots.AxesSubplot at 0x7f71006073d0>"
            ]
          },
          "metadata": {
            "tags": []
          },
          "execution_count": 132
        },
        {
          "output_type": "display_data",
          "data": {
            "image/png": "[encoded data removed]",
            "text/plain": [
              "<Figure size 432x288 with 2 Axes>"
            ]
          },
          "metadata": {
            "tags": [],
            "needs_background": "light"
          }
        }
      ]
    },
    {
      "cell_type": "markdown",
      "metadata": {
        "id": "Syr9henRyWDS"
      },
      "source": [
        "# **KNN + MinMax scaler**"
      ]
    },
    {
      "cell_type": "code",
      "metadata": {
        "colab": {
          "base_uri": "https://localhost:8080/",
          "height": 317
        },
        "id": "3slBw-oxrfCS",
        "outputId": "3d5f7697-2ffb-41e0-d812-b0cb3b22d65f"
      },
      "source": [
        "#Standard scaler \n",
        "from sklearn.neighbors import KNeighborsClassifier  \n",
        "\n",
        "classifier= KNeighborsClassifier(n_neighbors=5, metric='minkowski', p=2 )  \n",
        "\n",
        "classifier.fit(X_train,Y_train)\n",
        "Y_pred = classifier.predict(X_test)\n",
        "print(\"Error:\",mean_squared_error(Y_test, Y_pred))\n",
        "print(\"Accuracy:\",accuracy_score(Y_test,Y_pred))\n",
        "cnf = confusion_matrix(Y_test,Y_pred)\n",
        "sns.heatmap(cnf,annot=True)"
      ],
      "execution_count": 145,
      "outputs": [
        {
          "output_type": "stream",
          "text": [
            "Error: 0.3684210526315789\n",
            "Accuracy: 0.631578947368421\n"
          ],
          "name": "stdout"
        },
        {
          "output_type": "execute_result",
          "data": {
            "text/plain": [
              "<matplotlib.axes._subplots.AxesSubplot at 0x7f71004bac90>"
            ]
          },
          "metadata": {
            "tags": []
          },
          "execution_count": 145
        },
        {
          "output_type": "display_data",
          "data": {
            "image/png": "[encoded data removed]",
            "text/plain": [
              "<Figure size 432x288 with 2 Axes>"
            ]
          },
          "metadata": {
            "tags": [],
            "needs_background": "light"
          }
        }
      ]
    },
    {
      "cell_type": "markdown",
      "metadata": {
        "id": "ULaNE45lybo4"
      },
      "source": [
        "# **Random Forest + MinMax scaler**"
      ]
    },
    {
      "cell_type": "code",
      "metadata": {
        "colab": {
          "base_uri": "https://localhost:8080/",
          "height": 317
        },
        "id": "ca9jSFIKya-y",
        "outputId": "e38c447a-1ef0-43fe-d29f-5839b18ba232"
      },
      "source": [
        "from sklearn import ensemble\n",
        "classifier = ensemble.RandomForestClassifier(criterion='gini')\n",
        "classifier.fit(X_train,Y_train)\n",
        "Y_pred = classifier.predict(X_test)\n",
        "print(\"Error:\",mean_squared_error(Y_test, Y_pred))\n",
        "print(\"Accuracy:\",accuracy_score(Y_test,Y_pred))\n",
        "cnf = confusion_matrix(Y_test,Y_pred)\n",
        "sns.heatmap(cnf,annot=True)"
      ],
      "execution_count": 151,
      "outputs": [
        {
          "output_type": "stream",
          "text": [
            "Error: 0.2894736842105263\n",
            "Accuracy: 0.7105263157894737\n"
          ],
          "name": "stdout"
        },
        {
          "output_type": "execute_result",
          "data": {
            "text/plain": [
              "<matplotlib.axes._subplots.AxesSubplot at 0x7f71006cd590>"
            ]
          },
          "metadata": {
            "tags": []
          },
          "execution_count": 151
        },
        {
          "output_type": "display_data",
          "data": {
            "image/png": "[encoded data removed]",
            "text/plain": [
              "<Figure size 432x288 with 2 Axes>"
            ]
          },
          "metadata": {
            "tags": [],
            "needs_background": "light"
          }
        }
      ]
    },
    {
      "cell_type": "markdown",
      "metadata": {
        "id": "CtaoafZwyhWT"
      },
      "source": [
        "# **SVM + Minmax Scaler**"
      ]
    },
    {
      "cell_type": "code",
      "metadata": {
        "colab": {
          "base_uri": "https://localhost:8080/",
          "height": 317
        },
        "id": "oZDYxWstyma4",
        "outputId": "91af90b4-4de5-4268-cb2a-343dc239f192"
      },
      "source": [
        "from sklearn.svm import SVC \n",
        "classifier = SVC(kernel='linear')\n",
        "classifier.fit(X_train,Y_train)\n",
        "Y_pred = classifier.predict(X_test)\n",
        "print(\"Error:\",mean_squared_error(Y_test, Y_pred))\n",
        "print(\"Accuracy:\",accuracy_score(Y_test,Y_pred))\n",
        "cnf = confusion_matrix(Y_test,Y_pred)\n",
        "sns.heatmap(cnf,annot=True)"
      ],
      "execution_count": 147,
      "outputs": [
        {
          "output_type": "stream",
          "text": [
            "Error: 0.3157894736842105\n",
            "Accuracy: 0.6842105263157895\n"
          ],
          "name": "stdout"
        },
        {
          "output_type": "execute_result",
          "data": {
            "text/plain": [
              "<matplotlib.axes._subplots.AxesSubplot at 0x7f7100400d10>"
            ]
          },
          "metadata": {
            "tags": []
          },
          "execution_count": 147
        },
        {
          "output_type": "display_data",
          "data": {
            "image/png": "[encoded data removed]",
            "text/plain": [
              "<Figure size 432x288 with 2 Axes>"
            ]
          },
          "metadata": {
            "tags": [],
            "needs_background": "light"
          }
        }
      ]
    },
    {
      "cell_type": "code",
      "metadata": {
        "id": "MSZ3WxhUzOgW"
      },
      "source": [
        ""
      ],
      "execution_count": null,
      "outputs": []
    }
  ]
}