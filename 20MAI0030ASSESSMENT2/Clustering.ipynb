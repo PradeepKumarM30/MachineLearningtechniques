{
  "nbformat": 4,
  "nbformat_minor": 0,
  "metadata": {
    "colab": {
      "name": "Clustering.ipynb",
      "provenance": [],
      "toc_visible": true,
      "authorship_tag": "ABX9TyOIridvPRoh8IpAjRTm/Bdt",
      "include_colab_link": true
    },
    "kernelspec": {
      "name": "python3",
      "display_name": "Python 3"
    },
    "language_info": {
      "name": "python"
    }
  },
  "cells": [
    {
      "cell_type": "markdown",
      "metadata": {
        "id": "view-in-github",
        "colab_type": "text"
      },
      "source": [
        "<a href=\"https://colab.research.google.com/github/PradeepKumarM30/MachineLearningtechniques/blob/main/20MAI0030ASSESSMENT2/Clustering.ipynb\" target=\"_parent\"><img src=\"https://colab.research.google.com/assets/colab-badge.svg\" alt=\"Open In Colab\"/></a>"
      ]
    },
    {
      "cell_type": "markdown",
      "metadata": {
        "id": "NrfCU6USYwHZ"
      },
      "source": [
        "# **Clustering Guided Demo**\n",
        "# **Overview**\n",
        "# **1. Partition based - Kmeans**\n",
        "# **2. Hierarchial - Agglomerative**"
      ]
    },
    {
      "cell_type": "markdown",
      "metadata": {
        "id": "pE3afAjepuwf"
      },
      "source": [
        "# **EX1. Kmeans for Salary Dataset**"
      ]
    },
    {
      "cell_type": "markdown",
      "metadata": {
        "id": "Z7h5AVoqcgyG"
      },
      "source": [
        "# **1. Import dataset**"
      ]
    },
    {
      "cell_type": "code",
      "metadata": {
        "colab": {
          "base_uri": "https://localhost:8080/",
          "height": 356
        },
        "id": "hXMo8kb-YvPe",
        "outputId": "56aab48c-e95b-4b2f-d6ea-95722ad6a13a"
      },
      "source": [
        "#Kmeans -- K = Number of clusters\n",
        "import pandas as pd\n",
        "\n",
        "customers_df = pd.read_csv(\"/content/sample_data/Salary_Data.csv\")\n",
        "customers_df.head(10)\n"
      ],
      "execution_count": 99,
      "outputs": [
        {
          "output_type": "execute_result",
          "data": {
            "text/html": [
              "<div>\n",
              "<style scoped>\n",
              "    .dataframe tbody tr th:only-of-type {\n",
              "        vertical-align: middle;\n",
              "    }\n",
              "\n",
              "    .dataframe tbody tr th {\n",
              "        vertical-align: top;\n",
              "    }\n",
              "\n",
              "    .dataframe thead th {\n",
              "        text-align: right;\n",
              "    }\n",
              "</style>\n",
              "<table border=\"1\" class=\"dataframe\">\n",
              "  <thead>\n",
              "    <tr style=\"text-align: right;\">\n",
              "      <th></th>\n",
              "      <th>age</th>\n",
              "      <th>income</th>\n",
              "    </tr>\n",
              "  </thead>\n",
              "  <tbody>\n",
              "    <tr>\n",
              "      <th>0</th>\n",
              "      <td>25</td>\n",
              "      <td>69343</td>\n",
              "    </tr>\n",
              "    <tr>\n",
              "      <th>1</th>\n",
              "      <td>31</td>\n",
              "      <td>69891</td>\n",
              "    </tr>\n",
              "    <tr>\n",
              "      <th>2</th>\n",
              "      <td>26</td>\n",
              "      <td>56642</td>\n",
              "    </tr>\n",
              "    <tr>\n",
              "      <th>3</th>\n",
              "      <td>51</td>\n",
              "      <td>65000</td>\n",
              "    </tr>\n",
              "    <tr>\n",
              "      <th>4</th>\n",
              "      <td>35</td>\n",
              "      <td>44555</td>\n",
              "    </tr>\n",
              "    <tr>\n",
              "      <th>5</th>\n",
              "      <td>37</td>\n",
              "      <td>47900</td>\n",
              "    </tr>\n",
              "    <tr>\n",
              "      <th>6</th>\n",
              "      <td>39</td>\n",
              "      <td>38900</td>\n",
              "    </tr>\n",
              "    <tr>\n",
              "      <th>7</th>\n",
              "      <td>56</td>\n",
              "      <td>82000</td>\n",
              "    </tr>\n",
              "    <tr>\n",
              "      <th>8</th>\n",
              "      <td>30</td>\n",
              "      <td>57731</td>\n",
              "    </tr>\n",
              "    <tr>\n",
              "      <th>9</th>\n",
              "      <td>29</td>\n",
              "      <td>63525</td>\n",
              "    </tr>\n",
              "  </tbody>\n",
              "</table>\n",
              "</div>"
            ],
            "text/plain": [
              "   age  income\n",
              "0   25   69343\n",
              "1   31   69891\n",
              "2   26   56642\n",
              "3   51   65000\n",
              "4   35   44555\n",
              "5   37   47900\n",
              "6   39   38900\n",
              "7   56   82000\n",
              "8   30   57731\n",
              "9   29   63525"
            ]
          },
          "metadata": {
            "tags": []
          },
          "execution_count": 99
        }
      ]
    },
    {
      "cell_type": "markdown",
      "metadata": {
        "id": "emFHPTJac6re"
      },
      "source": [
        "# **2. Import library**"
      ]
    },
    {
      "cell_type": "code",
      "metadata": {
        "colab": {
          "base_uri": "https://localhost:8080/",
          "height": 417
        },
        "id": "ixa0dMCicwQC",
        "outputId": "8b6ea5ea-bb0a-4080-fe3c-79b6556a2282"
      },
      "source": [
        "import numpy as np\n",
        "import matplotlib.pyplot as plt\n",
        "import seaborn as sns\n",
        "%matplotlib inline\n",
        "\n",
        "#SCATTER PLOT\n",
        "\n",
        "sns.lmplot(\"age\",\"income\",data = customers_df, fit_reg = False,size=4)"
      ],
      "execution_count": 100,
      "outputs": [
        {
          "output_type": "stream",
          "text": [
            "/usr/local/lib/python3.7/dist-packages/seaborn/_decorators.py:43: FutureWarning: Pass the following variables as keyword args: x, y. From version 0.12, the only valid positional argument will be `data`, and passing other arguments without an explicit keyword will result in an error or misinterpretation.\n",
            "  FutureWarning\n",
            "/usr/local/lib/python3.7/dist-packages/seaborn/regression.py:580: UserWarning: The `size` parameter has been renamed to `height`; please update your code.\n",
            "  warnings.warn(msg, UserWarning)\n"
          ],
          "name": "stderr"
        },
        {
          "output_type": "execute_result",
          "data": {
            "text/plain": [
              "<seaborn.axisgrid.FacetGrid at 0x7f28d3cfedd0>"
            ]
          },
          "metadata": {
            "tags": []
          },
          "execution_count": 100
        },
        {
          "output_type": "display_data",
          "data": {
            "image/png": "[encoded data removed]",
            "text/plain": [
              "<Figure size 288x288 with 1 Axes>"
            ]
          },
          "metadata": {
            "tags": [],
            "needs_background": "light"
          }
        }
      ]
    },
    {
      "cell_type": "markdown",
      "metadata": {
        "id": "agMVIsj7ebim"
      },
      "source": [
        "# **3 . Import Kmeans and run**"
      ]
    },
    {
      "cell_type": "code",
      "metadata": {
        "colab": {
          "base_uri": "https://localhost:8080/"
        },
        "id": "xUnfA5z2eK4s",
        "outputId": "258d7375-a60f-42b1-b072-bffca5454248"
      },
      "source": [
        "from sklearn.cluster import KMeans\n",
        "clusters = KMeans(3)\n",
        "clusters.fit(customers_df)"
      ],
      "execution_count": 101,
      "outputs": [
        {
          "output_type": "execute_result",
          "data": {
            "text/plain": [
              "KMeans(algorithm='auto', copy_x=True, init='k-means++', max_iter=300,\n",
              "       n_clusters=3, n_init=10, n_jobs=None, precompute_distances='auto',\n",
              "       random_state=None, tol=0.0001, verbose=0)"
            ]
          },
          "metadata": {
            "tags": []
          },
          "execution_count": 101
        }
      ]
    },
    {
      "cell_type": "markdown",
      "metadata": {
        "id": "JEojRUyDfjhf"
      },
      "source": [
        "# **4.The result var is clusters.label_**"
      ]
    },
    {
      "cell_type": "code",
      "metadata": {
        "id": "t3iX0ZevepeA"
      },
      "source": [
        "customers_df[\"clusterid\"] = clusters.labels_"
      ],
      "execution_count": 102,
      "outputs": []
    },
    {
      "cell_type": "code",
      "metadata": {
        "colab": {
          "base_uri": "https://localhost:8080/",
          "height": 356
        },
        "id": "fYVw7k5hf2Fb",
        "outputId": "abeae596-9836-4eb9-8d13-46f6c77aa214"
      },
      "source": [
        "customers_df[0:10]"
      ],
      "execution_count": 103,
      "outputs": [
        {
          "output_type": "execute_result",
          "data": {
            "text/html": [
              "<div>\n",
              "<style scoped>\n",
              "    .dataframe tbody tr th:only-of-type {\n",
              "        vertical-align: middle;\n",
              "    }\n",
              "\n",
              "    .dataframe tbody tr th {\n",
              "        vertical-align: top;\n",
              "    }\n",
              "\n",
              "    .dataframe thead th {\n",
              "        text-align: right;\n",
              "    }\n",
              "</style>\n",
              "<table border=\"1\" class=\"dataframe\">\n",
              "  <thead>\n",
              "    <tr style=\"text-align: right;\">\n",
              "      <th></th>\n",
              "      <th>age</th>\n",
              "      <th>income</th>\n",
              "      <th>clusterid</th>\n",
              "    </tr>\n",
              "  </thead>\n",
              "  <tbody>\n",
              "    <tr>\n",
              "      <th>0</th>\n",
              "      <td>25</td>\n",
              "      <td>69343</td>\n",
              "      <td>1</td>\n",
              "    </tr>\n",
              "    <tr>\n",
              "      <th>1</th>\n",
              "      <td>31</td>\n",
              "      <td>69891</td>\n",
              "      <td>1</td>\n",
              "    </tr>\n",
              "    <tr>\n",
              "      <th>2</th>\n",
              "      <td>26</td>\n",
              "      <td>56642</td>\n",
              "      <td>1</td>\n",
              "    </tr>\n",
              "    <tr>\n",
              "      <th>3</th>\n",
              "      <td>51</td>\n",
              "      <td>65000</td>\n",
              "      <td>1</td>\n",
              "    </tr>\n",
              "    <tr>\n",
              "      <th>4</th>\n",
              "      <td>35</td>\n",
              "      <td>44555</td>\n",
              "      <td>0</td>\n",
              "    </tr>\n",
              "    <tr>\n",
              "      <th>5</th>\n",
              "      <td>37</td>\n",
              "      <td>47900</td>\n",
              "      <td>0</td>\n",
              "    </tr>\n",
              "    <tr>\n",
              "      <th>6</th>\n",
              "      <td>39</td>\n",
              "      <td>38900</td>\n",
              "      <td>0</td>\n",
              "    </tr>\n",
              "    <tr>\n",
              "      <th>7</th>\n",
              "      <td>56</td>\n",
              "      <td>82000</td>\n",
              "      <td>2</td>\n",
              "    </tr>\n",
              "    <tr>\n",
              "      <th>8</th>\n",
              "      <td>30</td>\n",
              "      <td>57731</td>\n",
              "      <td>1</td>\n",
              "    </tr>\n",
              "    <tr>\n",
              "      <th>9</th>\n",
              "      <td>29</td>\n",
              "      <td>63525</td>\n",
              "      <td>1</td>\n",
              "    </tr>\n",
              "  </tbody>\n",
              "</table>\n",
              "</div>"
            ],
            "text/plain": [
              "   age  income  clusterid\n",
              "0   25   69343          1\n",
              "1   31   69891          1\n",
              "2   26   56642          1\n",
              "3   51   65000          1\n",
              "4   35   44555          0\n",
              "5   37   47900          0\n",
              "6   39   38900          0\n",
              "7   56   82000          2\n",
              "8   30   57731          1\n",
              "9   29   63525          1"
            ]
          },
          "metadata": {
            "tags": []
          },
          "execution_count": 103
        }
      ]
    },
    {
      "cell_type": "markdown",
      "metadata": {
        "id": "NsWql3rCiSdd"
      },
      "source": [
        "# **5 . Plot clusters**"
      ]
    },
    {
      "cell_type": "code",
      "metadata": {
        "colab": {
          "base_uri": "https://localhost:8080/",
          "height": 417
        },
        "id": "AFwaSS4liTgD",
        "outputId": "445d3a26-bff8-4abd-c847-6e937815a579"
      },
      "source": [
        "markers = ['+','^','*']\n",
        "sns.lmplot(\"age\",\"income\",data = customers_df, hue = \"clusterid\", fit_reg = False, size = 4, markers = markers )"
      ],
      "execution_count": 104,
      "outputs": [
        {
          "output_type": "stream",
          "text": [
            "/usr/local/lib/python3.7/dist-packages/seaborn/_decorators.py:43: FutureWarning: Pass the following variables as keyword args: x, y. From version 0.12, the only valid positional argument will be `data`, and passing other arguments without an explicit keyword will result in an error or misinterpretation.\n",
            "  FutureWarning\n",
            "/usr/local/lib/python3.7/dist-packages/seaborn/regression.py:580: UserWarning: The `size` parameter has been renamed to `height`; please update your code.\n",
            "  warnings.warn(msg, UserWarning)\n"
          ],
          "name": "stderr"
        },
        {
          "output_type": "execute_result",
          "data": {
            "text/plain": [
              "<seaborn.axisgrid.FacetGrid at 0x7f28d3ca3b10>"
            ]
          },
          "metadata": {
            "tags": []
          },
          "execution_count": 104
        },
        {
          "output_type": "display_data",
          "data": {
            "image/png": "[encoded data removed]",
            "text/plain": [
              "<Figure size 339.375x288 with 1 Axes>"
            ]
          },
          "metadata": {
            "tags": [],
            "needs_background": "light"
          }
        }
      ]
    },
    {
      "cell_type": "markdown",
      "metadata": {
        "id": "6utmP8-yg2fm"
      },
      "source": [
        "# **6. Normalize the features**"
      ]
    },
    {
      "cell_type": "code",
      "metadata": {
        "colab": {
          "base_uri": "https://localhost:8080/"
        },
        "id": "0Iiwpxwof7Za",
        "outputId": "4a8d1c0d-f259-4f83-85fb-e4a79aa02e0a"
      },
      "source": [
        "from sklearn.preprocessing import StandardScaler\n",
        "scaler = StandardScaler()\n",
        "scaled_customer_df = scaler.fit_transform(customers_df[[\"age\",\"income\"]])\n",
        "\n",
        "scaled_customer_df[0:10]"
      ],
      "execution_count": 105,
      "outputs": [
        {
          "output_type": "execute_result",
          "data": {
            "text/plain": [
              "array([[-1.58294052,  0.41411441],\n",
              "       [-1.08130444,  0.44493328],\n",
              "       [-1.49933451, -0.3001746 ],\n",
              "       [ 0.59081583,  0.1698693 ],\n",
              "       [-0.74688039, -0.97993299],\n",
              "       [-0.57966836, -0.7918142 ],\n",
              "       [-0.41245633, -1.29796341],\n",
              "       [ 1.0088459 ,  1.12592892],\n",
              "       [-1.16491046, -0.23893055],\n",
              "       [-1.24851647,  0.08691707]])"
            ]
          },
          "metadata": {
            "tags": []
          },
          "execution_count": 105
        }
      ]
    },
    {
      "cell_type": "markdown",
      "metadata": {
        "id": "iwAvo79ihs0n"
      },
      "source": [
        "# **7. Clustering on the normalized data**"
      ]
    },
    {
      "cell_type": "code",
      "metadata": {
        "id": "XW9uSskMhlun"
      },
      "source": [
        "clusters_new = KMeans(3)\n",
        "clusters_new.fit(scaled_customer_df)\n",
        "customers_df[\"clusterid_scaled\"] = clusters_new.labels_"
      ],
      "execution_count": 106,
      "outputs": []
    },
    {
      "cell_type": "markdown",
      "metadata": {
        "id": "kIPsaUhAi9rt"
      },
      "source": [
        "# **8. Plot again**"
      ]
    },
    {
      "cell_type": "code",
      "metadata": {
        "colab": {
          "base_uri": "https://localhost:8080/",
          "height": 417
        },
        "id": "k1JILlpCiH3b",
        "outputId": "e7cfbce0-0c7b-4018-f928-ee1ee4d095a1"
      },
      "source": [
        "markers = ['+','^','*']\n",
        "sns.lmplot(\"age\",\"income\",data = customers_df, hue = \"clusterid_scaled\", fit_reg = False, size = 4, markers = markers )"
      ],
      "execution_count": 107,
      "outputs": [
        {
          "output_type": "stream",
          "text": [
            "/usr/local/lib/python3.7/dist-packages/seaborn/_decorators.py:43: FutureWarning: Pass the following variables as keyword args: x, y. From version 0.12, the only valid positional argument will be `data`, and passing other arguments without an explicit keyword will result in an error or misinterpretation.\n",
            "  FutureWarning\n",
            "/usr/local/lib/python3.7/dist-packages/seaborn/regression.py:580: UserWarning: The `size` parameter has been renamed to `height`; please update your code.\n",
            "  warnings.warn(msg, UserWarning)\n"
          ],
          "name": "stderr"
        },
        {
          "output_type": "execute_result",
          "data": {
            "text/plain": [
              "<seaborn.axisgrid.FacetGrid at 0x7f28d3ca3b90>"
            ]
          },
          "metadata": {
            "tags": []
          },
          "execution_count": 107
        },
        {
          "output_type": "display_data",
          "data": {
            "image/png": "[encoded data removed]",
            "text/plain": [
              "<Figure size 376.625x288 with 1 Axes>"
            ]
          },
          "metadata": {
            "tags": [],
            "needs_background": "light"
          }
        }
      ]
    },
    {
      "cell_type": "markdown",
      "metadata": {
        "id": "Sj80dHfHuhFv"
      },
      "source": [
        "# **Clustering using Agglomerative with salary data**"
      ]
    },
    {
      "cell_type": "code",
      "metadata": {
        "id": "XUUOT8RZuprS"
      },
      "source": [
        "clusters_agglo = AgglomerativeClustering(3)\n",
        "clusters_agglo.fit(scaled_customer_df)\n",
        "customers_df[\"clusterid_agglo\"] = clusters.labels_\n"
      ],
      "execution_count": 108,
      "outputs": []
    },
    {
      "cell_type": "code",
      "metadata": {
        "colab": {
          "base_uri": "https://localhost:8080/",
          "height": 172
        },
        "id": "qeLD04n4vSaW",
        "outputId": "0637b74f-7fa5-409d-85a1-a38794445c28"
      },
      "source": [
        "customers_df[1:5]"
      ],
      "execution_count": 109,
      "outputs": [
        {
          "output_type": "execute_result",
          "data": {
            "text/html": [
              "<div>\n",
              "<style scoped>\n",
              "    .dataframe tbody tr th:only-of-type {\n",
              "        vertical-align: middle;\n",
              "    }\n",
              "\n",
              "    .dataframe tbody tr th {\n",
              "        vertical-align: top;\n",
              "    }\n",
              "\n",
              "    .dataframe thead th {\n",
              "        text-align: right;\n",
              "    }\n",
              "</style>\n",
              "<table border=\"1\" class=\"dataframe\">\n",
              "  <thead>\n",
              "    <tr style=\"text-align: right;\">\n",
              "      <th></th>\n",
              "      <th>age</th>\n",
              "      <th>income</th>\n",
              "      <th>clusterid</th>\n",
              "      <th>clusterid_scaled</th>\n",
              "      <th>clusterid_agglo</th>\n",
              "    </tr>\n",
              "  </thead>\n",
              "  <tbody>\n",
              "    <tr>\n",
              "      <th>1</th>\n",
              "      <td>31</td>\n",
              "      <td>69891</td>\n",
              "      <td>1</td>\n",
              "      <td>2</td>\n",
              "      <td>1</td>\n",
              "    </tr>\n",
              "    <tr>\n",
              "      <th>2</th>\n",
              "      <td>26</td>\n",
              "      <td>56642</td>\n",
              "      <td>1</td>\n",
              "      <td>2</td>\n",
              "      <td>1</td>\n",
              "    </tr>\n",
              "    <tr>\n",
              "      <th>3</th>\n",
              "      <td>51</td>\n",
              "      <td>65000</td>\n",
              "      <td>1</td>\n",
              "      <td>1</td>\n",
              "      <td>1</td>\n",
              "    </tr>\n",
              "    <tr>\n",
              "      <th>4</th>\n",
              "      <td>35</td>\n",
              "      <td>44555</td>\n",
              "      <td>0</td>\n",
              "      <td>0</td>\n",
              "      <td>0</td>\n",
              "    </tr>\n",
              "  </tbody>\n",
              "</table>\n",
              "</div>"
            ],
            "text/plain": [
              "   age  income  clusterid  clusterid_scaled  clusterid_agglo\n",
              "1   31   69891          1                 2                1\n",
              "2   26   56642          1                 2                1\n",
              "3   51   65000          1                 1                1\n",
              "4   35   44555          0                 0                0"
            ]
          },
          "metadata": {
            "tags": []
          },
          "execution_count": 109
        }
      ]
    },
    {
      "cell_type": "code",
      "metadata": {
        "colab": {
          "base_uri": "https://localhost:8080/",
          "height": 417
        },
        "id": "xW-4Bs2XvWhN",
        "outputId": "96c09a7d-3971-47c5-983b-00ab5cffe968"
      },
      "source": [
        "markers = ['+','^','*']\n",
        "sns.lmplot(\"age\",\"income\",data = customers_df, hue = \"clusterid_agglo\", fit_reg = False, size = 4, markers = markers )"
      ],
      "execution_count": 110,
      "outputs": [
        {
          "output_type": "stream",
          "text": [
            "/usr/local/lib/python3.7/dist-packages/seaborn/_decorators.py:43: FutureWarning: Pass the following variables as keyword args: x, y. From version 0.12, the only valid positional argument will be `data`, and passing other arguments without an explicit keyword will result in an error or misinterpretation.\n",
            "  FutureWarning\n",
            "/usr/local/lib/python3.7/dist-packages/seaborn/regression.py:580: UserWarning: The `size` parameter has been renamed to `height`; please update your code.\n",
            "  warnings.warn(msg, UserWarning)\n"
          ],
          "name": "stderr"
        },
        {
          "output_type": "execute_result",
          "data": {
            "text/plain": [
              "<seaborn.axisgrid.FacetGrid at 0x7f28d3be5c90>"
            ]
          },
          "metadata": {
            "tags": []
          },
          "execution_count": 110
        },
        {
          "output_type": "display_data",
          "data": {
            "image/png": "[encoded data removed]",
            "text/plain": [
              "<Figure size 372.125x288 with 1 Axes>"
            ]
          },
          "metadata": {
            "tags": [],
            "needs_background": "light"
          }
        }
      ]
    },
    {
      "cell_type": "markdown",
      "metadata": {
        "id": "sk-F6FK_x_I1"
      },
      "source": [
        "# **Remark for Kmeans vs Agglomerative for Salary dataset post normalization**\n",
        "# **1. Clustering is more based on the age axis for kmeans but in agglomertaive it takes the income also more largely in consideration**\n"
      ]
    },
    {
      "cell_type": "markdown",
      "metadata": {
        "id": "lmMAJcFGtfzU"
      },
      "source": [
        "# **Clustering using Kmeans with beverage dataset**"
      ]
    },
    {
      "cell_type": "code",
      "metadata": {
        "colab": {
          "base_uri": "https://localhost:8080/",
          "height": 356
        },
        "id": "ZXbh5vMJlEkx",
        "outputId": "18a1bcf9-1a9c-486f-fc28-887a5a4432fd"
      },
      "source": [
        "bev_df = pd.DataFrame(pd.read_excel(\"/content/sample_data/bev.xlsx\"))\n",
        "bev_df.head(10)"
      ],
      "execution_count": 111,
      "outputs": [
        {
          "output_type": "execute_result",
          "data": {
            "text/html": [
              "<div>\n",
              "<style scoped>\n",
              "    .dataframe tbody tr th:only-of-type {\n",
              "        vertical-align: middle;\n",
              "    }\n",
              "\n",
              "    .dataframe tbody tr th {\n",
              "        vertical-align: top;\n",
              "    }\n",
              "\n",
              "    .dataframe thead th {\n",
              "        text-align: right;\n",
              "    }\n",
              "</style>\n",
              "<table border=\"1\" class=\"dataframe\">\n",
              "  <thead>\n",
              "    <tr style=\"text-align: right;\">\n",
              "      <th></th>\n",
              "      <th>Name</th>\n",
              "      <th>Potassium</th>\n",
              "      <th>Sodium</th>\n",
              "      <th>Caffeine</th>\n",
              "      <th>Cost</th>\n",
              "    </tr>\n",
              "  </thead>\n",
              "  <tbody>\n",
              "    <tr>\n",
              "      <th>0</th>\n",
              "      <td>new_england_coffee</td>\n",
              "      <td>144</td>\n",
              "      <td>15</td>\n",
              "      <td>4.7</td>\n",
              "      <td>0.43</td>\n",
              "    </tr>\n",
              "    <tr>\n",
              "      <th>1</th>\n",
              "      <td>post_alley_blend</td>\n",
              "      <td>151</td>\n",
              "      <td>19</td>\n",
              "      <td>4.9</td>\n",
              "      <td>0.43</td>\n",
              "    </tr>\n",
              "    <tr>\n",
              "      <th>2</th>\n",
              "      <td>stumpdown_coffee</td>\n",
              "      <td>157</td>\n",
              "      <td>15</td>\n",
              "      <td>0.9</td>\n",
              "      <td>0.48</td>\n",
              "    </tr>\n",
              "    <tr>\n",
              "      <th>3</th>\n",
              "      <td>bizzy_organic_coffee</td>\n",
              "      <td>170</td>\n",
              "      <td>7</td>\n",
              "      <td>5.2</td>\n",
              "      <td>0.73</td>\n",
              "    </tr>\n",
              "    <tr>\n",
              "      <th>4</th>\n",
              "      <td>indian_bean</td>\n",
              "      <td>152</td>\n",
              "      <td>11</td>\n",
              "      <td>5.0</td>\n",
              "      <td>0.77</td>\n",
              "    </tr>\n",
              "    <tr>\n",
              "      <th>5</th>\n",
              "      <td>jacobs_coffee</td>\n",
              "      <td>145</td>\n",
              "      <td>23</td>\n",
              "      <td>4.6</td>\n",
              "      <td>0.28</td>\n",
              "    </tr>\n",
              "    <tr>\n",
              "      <th>6</th>\n",
              "      <td>grounds_hounds_coffee</td>\n",
              "      <td>175</td>\n",
              "      <td>24</td>\n",
              "      <td>5.5</td>\n",
              "      <td>0.40</td>\n",
              "    </tr>\n",
              "    <tr>\n",
              "      <th>7</th>\n",
              "      <td>la_columbe_corisca</td>\n",
              "      <td>149</td>\n",
              "      <td>27</td>\n",
              "      <td>4.7</td>\n",
              "      <td>0.42</td>\n",
              "    </tr>\n",
              "    <tr>\n",
              "      <th>8</th>\n",
              "      <td>lavazza_super_crema</td>\n",
              "      <td>99</td>\n",
              "      <td>10</td>\n",
              "      <td>4.3</td>\n",
              "      <td>0.43</td>\n",
              "    </tr>\n",
              "    <tr>\n",
              "      <th>9</th>\n",
              "      <td>mount_hagen</td>\n",
              "      <td>113</td>\n",
              "      <td>8</td>\n",
              "      <td>3.7</td>\n",
              "      <td>0.40</td>\n",
              "    </tr>\n",
              "  </tbody>\n",
              "</table>\n",
              "</div>"
            ],
            "text/plain": [
              "                    Name  Potassium  Sodium  Caffeine  Cost\n",
              "0     new_england_coffee        144      15       4.7  0.43\n",
              "1       post_alley_blend        151      19       4.9  0.43\n",
              "2       stumpdown_coffee        157      15       0.9  0.48\n",
              "3   bizzy_organic_coffee        170       7       5.2  0.73\n",
              "4            indian_bean        152      11       5.0  0.77\n",
              "5          jacobs_coffee        145      23       4.6  0.28\n",
              "6  grounds_hounds_coffee        175      24       5.5  0.40\n",
              "7     la_columbe_corisca        149      27       4.7  0.42\n",
              "8    lavazza_super_crema         99      10       4.3  0.43\n",
              "9            mount_hagen        113       8       3.7  0.40"
            ]
          },
          "metadata": {
            "tags": []
          },
          "execution_count": 111
        }
      ]
    },
    {
      "cell_type": "code",
      "metadata": {
        "colab": {
          "base_uri": "https://localhost:8080/"
        },
        "id": "HqWxFau1mHj0",
        "outputId": "3b296a38-a258-4096-e066-81da440c850e"
      },
      "source": [
        "from sklearn.preprocessing import StandardScaler\n",
        "scaler = StandardScaler()\n",
        "scaled_bev_df = scaler.fit_transform(bev_df[[\"Potassium\",\"Sodium\",\"Caffeine\",\"Cost\"]])\n",
        "\n",
        "scaled_bev_df[0:10]"
      ],
      "execution_count": 112,
      "outputs": [
        {
          "output_type": "execute_result",
          "data": {
            "text/plain": [
              "array([[ 0.38791334,  0.00779468,  0.43380786, -0.45682969],\n",
              "       [ 0.6250656 ,  0.63136906,  0.62241997, -0.45682969],\n",
              "       [ 0.82833896,  0.00779468, -3.14982226, -0.10269815],\n",
              "       [ 1.26876459, -1.23935408,  0.90533814,  1.66795955],\n",
              "       [ 0.65894449, -0.6157797 ,  0.71672602,  1.95126478],\n",
              "       [ 0.42179223,  1.25494344,  0.3395018 , -1.5192243 ],\n",
              "       [ 1.43815906,  1.41083704,  1.1882563 , -0.66930861],\n",
              "       [ 0.55730781,  1.87851782,  0.43380786, -0.52765599],\n",
              "       [-1.1366369 , -0.7716733 ,  0.05658363, -0.45682969],\n",
              "       [-0.66233238, -1.08346049, -0.5092527 , -0.66930861]])"
            ]
          },
          "metadata": {
            "tags": []
          },
          "execution_count": 112
        }
      ]
    },
    {
      "cell_type": "code",
      "metadata": {
        "id": "CWhyMpn5mmHl"
      },
      "source": [
        "clusters_new = KMeans(3)\n",
        "clusters_new.fit(scaled_bev_df)\n",
        "bev_df[\"clusterid_scaled\"] = clusters_new.labels_"
      ],
      "execution_count": 113,
      "outputs": []
    },
    {
      "cell_type": "code",
      "metadata": {
        "colab": {
          "base_uri": "https://localhost:8080/",
          "height": 294
        },
        "id": "pLuE9aoRm4FK",
        "outputId": "3bd7ed3c-b9ed-4ff7-e535-40a644f336b5"
      },
      "source": [
        "bev_df[bev_df.clusterid_scaled == 1]"
      ],
      "execution_count": 114,
      "outputs": [
        {
          "output_type": "execute_result",
          "data": {
            "text/html": [
              "<div>\n",
              "<style scoped>\n",
              "    .dataframe tbody tr th:only-of-type {\n",
              "        vertical-align: middle;\n",
              "    }\n",
              "\n",
              "    .dataframe tbody tr th {\n",
              "        vertical-align: top;\n",
              "    }\n",
              "\n",
              "    .dataframe thead th {\n",
              "        text-align: right;\n",
              "    }\n",
              "</style>\n",
              "<table border=\"1\" class=\"dataframe\">\n",
              "  <thead>\n",
              "    <tr style=\"text-align: right;\">\n",
              "      <th></th>\n",
              "      <th>Name</th>\n",
              "      <th>Potassium</th>\n",
              "      <th>Sodium</th>\n",
              "      <th>Caffeine</th>\n",
              "      <th>Cost</th>\n",
              "      <th>clusterid_scaled</th>\n",
              "    </tr>\n",
              "  </thead>\n",
              "  <tbody>\n",
              "    <tr>\n",
              "      <th>2</th>\n",
              "      <td>stumpdown_coffee</td>\n",
              "      <td>157</td>\n",
              "      <td>15</td>\n",
              "      <td>0.9</td>\n",
              "      <td>0.48</td>\n",
              "      <td>1</td>\n",
              "    </tr>\n",
              "    <tr>\n",
              "      <th>8</th>\n",
              "      <td>lavazza_super_crema</td>\n",
              "      <td>99</td>\n",
              "      <td>10</td>\n",
              "      <td>4.3</td>\n",
              "      <td>0.43</td>\n",
              "      <td>1</td>\n",
              "    </tr>\n",
              "    <tr>\n",
              "      <th>9</th>\n",
              "      <td>mount_hagen</td>\n",
              "      <td>113</td>\n",
              "      <td>8</td>\n",
              "      <td>3.7</td>\n",
              "      <td>0.40</td>\n",
              "      <td>1</td>\n",
              "    </tr>\n",
              "    <tr>\n",
              "      <th>11</th>\n",
              "      <td>peerless_wholebean</td>\n",
              "      <td>102</td>\n",
              "      <td>15</td>\n",
              "      <td>4.1</td>\n",
              "      <td>0.46</td>\n",
              "      <td>1</td>\n",
              "    </tr>\n",
              "    <tr>\n",
              "      <th>12</th>\n",
              "      <td>stone_street_coffee</td>\n",
              "      <td>135</td>\n",
              "      <td>11</td>\n",
              "      <td>4.2</td>\n",
              "      <td>0.50</td>\n",
              "      <td>1</td>\n",
              "    </tr>\n",
              "    <tr>\n",
              "      <th>15</th>\n",
              "      <td>caribou_coffee</td>\n",
              "      <td>68</td>\n",
              "      <td>15</td>\n",
              "      <td>2.3</td>\n",
              "      <td>0.38</td>\n",
              "      <td>1</td>\n",
              "    </tr>\n",
              "    <tr>\n",
              "      <th>18</th>\n",
              "      <td>davidoff_coffee</td>\n",
              "      <td>72</td>\n",
              "      <td>6</td>\n",
              "      <td>2.9</td>\n",
              "      <td>0.46</td>\n",
              "      <td>1</td>\n",
              "    </tr>\n",
              "    <tr>\n",
              "      <th>19</th>\n",
              "      <td>js_coffee</td>\n",
              "      <td>97</td>\n",
              "      <td>7</td>\n",
              "      <td>4.2</td>\n",
              "      <td>0.47</td>\n",
              "      <td>1</td>\n",
              "    </tr>\n",
              "  </tbody>\n",
              "</table>\n",
              "</div>"
            ],
            "text/plain": [
              "                   Name  Potassium  Sodium  Caffeine  Cost  clusterid_scaled\n",
              "2      stumpdown_coffee        157      15       0.9  0.48                 1\n",
              "8   lavazza_super_crema         99      10       4.3  0.43                 1\n",
              "9           mount_hagen        113       8       3.7  0.40                 1\n",
              "11   peerless_wholebean        102      15       4.1  0.46                 1\n",
              "12  stone_street_coffee        135      11       4.2  0.50                 1\n",
              "15       caribou_coffee         68      15       2.3  0.38                 1\n",
              "18      davidoff_coffee         72       6       2.9  0.46                 1\n",
              "19            js_coffee         97       7       4.2  0.47                 1"
            ]
          },
          "metadata": {
            "tags": []
          },
          "execution_count": 114
        }
      ]
    },
    {
      "cell_type": "code",
      "metadata": {
        "colab": {
          "base_uri": "https://localhost:8080/",
          "height": 417
        },
        "id": "1-PcyAIetuX8",
        "outputId": "1f330b41-861e-4ffb-a5d7-c7ac67a587d3"
      },
      "source": [
        "markers = ['+','^','*']\n",
        "sns.lmplot(\"Caffeine\",\"Cost\",data = bev_df, hue = \"clusterid_scaled\", fit_reg = False, size = 4, markers = markers )"
      ],
      "execution_count": 115,
      "outputs": [
        {
          "output_type": "stream",
          "text": [
            "/usr/local/lib/python3.7/dist-packages/seaborn/_decorators.py:43: FutureWarning: Pass the following variables as keyword args: x, y. From version 0.12, the only valid positional argument will be `data`, and passing other arguments without an explicit keyword will result in an error or misinterpretation.\n",
            "  FutureWarning\n",
            "/usr/local/lib/python3.7/dist-packages/seaborn/regression.py:580: UserWarning: The `size` parameter has been renamed to `height`; please update your code.\n",
            "  warnings.warn(msg, UserWarning)\n"
          ],
          "name": "stderr"
        },
        {
          "output_type": "execute_result",
          "data": {
            "text/plain": [
              "<seaborn.axisgrid.FacetGrid at 0x7f28d3ac3710>"
            ]
          },
          "metadata": {
            "tags": []
          },
          "execution_count": 115
        },
        {
          "output_type": "display_data",
          "data": {
            "image/png": "[encoded data removed]",
            "text/plain": [
              "<Figure size 376.625x288 with 1 Axes>"
            ]
          },
          "metadata": {
            "tags": [],
            "needs_background": "light"
          }
        }
      ]
    },
    {
      "cell_type": "markdown",
      "metadata": {
        "id": "8shHu64pwiDN"
      },
      "source": [
        "# **Clustering Beverage dataset with agglomerative clustering**"
      ]
    },
    {
      "cell_type": "code",
      "metadata": {
        "id": "vR36almjnM9s"
      },
      "source": [
        "from sklearn.cluster import AgglomerativeClustering\n",
        "clusters_agglo = AgglomerativeClustering(3)\n",
        "clusters_agglo.fit(scaled_bev_df)\n",
        "bev_df[\"clusterid_agglo\"] = clusters_agglo.labels_\n"
      ],
      "execution_count": 116,
      "outputs": []
    },
    {
      "cell_type": "code",
      "metadata": {
        "colab": {
          "base_uri": "https://localhost:8080/",
          "height": 662
        },
        "id": "aYyae2z7vGHy",
        "outputId": "a730f22f-a978-42c5-905e-ab2cffa67e4f"
      },
      "source": [
        "bev_df"
      ],
      "execution_count": 117,
      "outputs": [
        {
          "output_type": "execute_result",
          "data": {
            "text/html": [
              "<div>\n",
              "<style scoped>\n",
              "    .dataframe tbody tr th:only-of-type {\n",
              "        vertical-align: middle;\n",
              "    }\n",
              "\n",
              "    .dataframe tbody tr th {\n",
              "        vertical-align: top;\n",
              "    }\n",
              "\n",
              "    .dataframe thead th {\n",
              "        text-align: right;\n",
              "    }\n",
              "</style>\n",
              "<table border=\"1\" class=\"dataframe\">\n",
              "  <thead>\n",
              "    <tr style=\"text-align: right;\">\n",
              "      <th></th>\n",
              "      <th>Name</th>\n",
              "      <th>Potassium</th>\n",
              "      <th>Sodium</th>\n",
              "      <th>Caffeine</th>\n",
              "      <th>Cost</th>\n",
              "      <th>clusterid_scaled</th>\n",
              "      <th>clusterid_agglo</th>\n",
              "    </tr>\n",
              "  </thead>\n",
              "  <tbody>\n",
              "    <tr>\n",
              "      <th>0</th>\n",
              "      <td>new_england_coffee</td>\n",
              "      <td>144</td>\n",
              "      <td>15</td>\n",
              "      <td>4.7</td>\n",
              "      <td>0.43</td>\n",
              "      <td>0</td>\n",
              "      <td>1</td>\n",
              "    </tr>\n",
              "    <tr>\n",
              "      <th>1</th>\n",
              "      <td>post_alley_blend</td>\n",
              "      <td>151</td>\n",
              "      <td>19</td>\n",
              "      <td>4.9</td>\n",
              "      <td>0.43</td>\n",
              "      <td>0</td>\n",
              "      <td>1</td>\n",
              "    </tr>\n",
              "    <tr>\n",
              "      <th>2</th>\n",
              "      <td>stumpdown_coffee</td>\n",
              "      <td>157</td>\n",
              "      <td>15</td>\n",
              "      <td>0.9</td>\n",
              "      <td>0.48</td>\n",
              "      <td>1</td>\n",
              "      <td>0</td>\n",
              "    </tr>\n",
              "    <tr>\n",
              "      <th>3</th>\n",
              "      <td>bizzy_organic_coffee</td>\n",
              "      <td>170</td>\n",
              "      <td>7</td>\n",
              "      <td>5.2</td>\n",
              "      <td>0.73</td>\n",
              "      <td>2</td>\n",
              "      <td>2</td>\n",
              "    </tr>\n",
              "    <tr>\n",
              "      <th>4</th>\n",
              "      <td>indian_bean</td>\n",
              "      <td>152</td>\n",
              "      <td>11</td>\n",
              "      <td>5.0</td>\n",
              "      <td>0.77</td>\n",
              "      <td>2</td>\n",
              "      <td>2</td>\n",
              "    </tr>\n",
              "    <tr>\n",
              "      <th>5</th>\n",
              "      <td>jacobs_coffee</td>\n",
              "      <td>145</td>\n",
              "      <td>23</td>\n",
              "      <td>4.6</td>\n",
              "      <td>0.28</td>\n",
              "      <td>0</td>\n",
              "      <td>1</td>\n",
              "    </tr>\n",
              "    <tr>\n",
              "      <th>6</th>\n",
              "      <td>grounds_hounds_coffee</td>\n",
              "      <td>175</td>\n",
              "      <td>24</td>\n",
              "      <td>5.5</td>\n",
              "      <td>0.40</td>\n",
              "      <td>0</td>\n",
              "      <td>1</td>\n",
              "    </tr>\n",
              "    <tr>\n",
              "      <th>7</th>\n",
              "      <td>la_columbe_corisca</td>\n",
              "      <td>149</td>\n",
              "      <td>27</td>\n",
              "      <td>4.7</td>\n",
              "      <td>0.42</td>\n",
              "      <td>0</td>\n",
              "      <td>1</td>\n",
              "    </tr>\n",
              "    <tr>\n",
              "      <th>8</th>\n",
              "      <td>lavazza_super_crema</td>\n",
              "      <td>99</td>\n",
              "      <td>10</td>\n",
              "      <td>4.3</td>\n",
              "      <td>0.43</td>\n",
              "      <td>1</td>\n",
              "      <td>0</td>\n",
              "    </tr>\n",
              "    <tr>\n",
              "      <th>9</th>\n",
              "      <td>mount_hagen</td>\n",
              "      <td>113</td>\n",
              "      <td>8</td>\n",
              "      <td>3.7</td>\n",
              "      <td>0.40</td>\n",
              "      <td>1</td>\n",
              "      <td>0</td>\n",
              "    </tr>\n",
              "    <tr>\n",
              "      <th>10</th>\n",
              "      <td>red_bay_coffee</td>\n",
              "      <td>140</td>\n",
              "      <td>18</td>\n",
              "      <td>4.6</td>\n",
              "      <td>0.44</td>\n",
              "      <td>0</td>\n",
              "      <td>1</td>\n",
              "    </tr>\n",
              "    <tr>\n",
              "      <th>11</th>\n",
              "      <td>peerless_wholebean</td>\n",
              "      <td>102</td>\n",
              "      <td>15</td>\n",
              "      <td>4.1</td>\n",
              "      <td>0.46</td>\n",
              "      <td>1</td>\n",
              "      <td>0</td>\n",
              "    </tr>\n",
              "    <tr>\n",
              "      <th>12</th>\n",
              "      <td>stone_street_coffee</td>\n",
              "      <td>135</td>\n",
              "      <td>11</td>\n",
              "      <td>4.2</td>\n",
              "      <td>0.50</td>\n",
              "      <td>1</td>\n",
              "      <td>0</td>\n",
              "    </tr>\n",
              "    <tr>\n",
              "      <th>13</th>\n",
              "      <td>green_mountain_coffee</td>\n",
              "      <td>150</td>\n",
              "      <td>19</td>\n",
              "      <td>4.7</td>\n",
              "      <td>0.76</td>\n",
              "      <td>2</td>\n",
              "      <td>2</td>\n",
              "    </tr>\n",
              "    <tr>\n",
              "      <th>14</th>\n",
              "      <td>koffee_cuit</td>\n",
              "      <td>149</td>\n",
              "      <td>6</td>\n",
              "      <td>5.0</td>\n",
              "      <td>0.79</td>\n",
              "      <td>2</td>\n",
              "      <td>2</td>\n",
              "    </tr>\n",
              "    <tr>\n",
              "      <th>15</th>\n",
              "      <td>caribou_coffee</td>\n",
              "      <td>68</td>\n",
              "      <td>15</td>\n",
              "      <td>2.3</td>\n",
              "      <td>0.38</td>\n",
              "      <td>1</td>\n",
              "      <td>0</td>\n",
              "    </tr>\n",
              "    <tr>\n",
              "      <th>16</th>\n",
              "      <td>irish_hazelnut_coffee</td>\n",
              "      <td>139</td>\n",
              "      <td>19</td>\n",
              "      <td>4.4</td>\n",
              "      <td>0.43</td>\n",
              "      <td>0</td>\n",
              "      <td>1</td>\n",
              "    </tr>\n",
              "    <tr>\n",
              "      <th>17</th>\n",
              "      <td>cremoso_coffee</td>\n",
              "      <td>144</td>\n",
              "      <td>24</td>\n",
              "      <td>4.9</td>\n",
              "      <td>0.43</td>\n",
              "      <td>0</td>\n",
              "      <td>1</td>\n",
              "    </tr>\n",
              "    <tr>\n",
              "      <th>18</th>\n",
              "      <td>davidoff_coffee</td>\n",
              "      <td>72</td>\n",
              "      <td>6</td>\n",
              "      <td>2.9</td>\n",
              "      <td>0.46</td>\n",
              "      <td>1</td>\n",
              "      <td>0</td>\n",
              "    </tr>\n",
              "    <tr>\n",
              "      <th>19</th>\n",
              "      <td>js_coffee</td>\n",
              "      <td>97</td>\n",
              "      <td>7</td>\n",
              "      <td>4.2</td>\n",
              "      <td>0.47</td>\n",
              "      <td>1</td>\n",
              "      <td>0</td>\n",
              "    </tr>\n",
              "  </tbody>\n",
              "</table>\n",
              "</div>"
            ],
            "text/plain": [
              "                     Name  Potassium  ...  clusterid_scaled  clusterid_agglo\n",
              "0      new_england_coffee        144  ...                 0                1\n",
              "1        post_alley_blend        151  ...                 0                1\n",
              "2        stumpdown_coffee        157  ...                 1                0\n",
              "3    bizzy_organic_coffee        170  ...                 2                2\n",
              "4             indian_bean        152  ...                 2                2\n",
              "5           jacobs_coffee        145  ...                 0                1\n",
              "6   grounds_hounds_coffee        175  ...                 0                1\n",
              "7      la_columbe_corisca        149  ...                 0                1\n",
              "8     lavazza_super_crema         99  ...                 1                0\n",
              "9             mount_hagen        113  ...                 1                0\n",
              "10         red_bay_coffee        140  ...                 0                1\n",
              "11     peerless_wholebean        102  ...                 1                0\n",
              "12    stone_street_coffee        135  ...                 1                0\n",
              "13  green_mountain_coffee        150  ...                 2                2\n",
              "14            koffee_cuit        149  ...                 2                2\n",
              "15         caribou_coffee         68  ...                 1                0\n",
              "16  irish_hazelnut_coffee        139  ...                 0                1\n",
              "17         cremoso_coffee        144  ...                 0                1\n",
              "18        davidoff_coffee         72  ...                 1                0\n",
              "19              js_coffee         97  ...                 1                0\n",
              "\n",
              "[20 rows x 7 columns]"
            ]
          },
          "metadata": {
            "tags": []
          },
          "execution_count": 117
        }
      ]
    },
    {
      "cell_type": "code",
      "metadata": {
        "colab": {
          "base_uri": "https://localhost:8080/",
          "height": 417
        },
        "id": "1aHuSmObv4en",
        "outputId": "f341a48a-9192-4933-c0f5-8ab31aa96a3d"
      },
      "source": [
        "markers = ['+','^','*']\n",
        "sns.lmplot(\"Caffeine\",\"Cost\",data = bev_df, hue = \"clusterid_agglo\", fit_reg = False, size = 4, markers = markers )"
      ],
      "execution_count": 118,
      "outputs": [
        {
          "output_type": "stream",
          "text": [
            "/usr/local/lib/python3.7/dist-packages/seaborn/_decorators.py:43: FutureWarning: Pass the following variables as keyword args: x, y. From version 0.12, the only valid positional argument will be `data`, and passing other arguments without an explicit keyword will result in an error or misinterpretation.\n",
            "  FutureWarning\n",
            "/usr/local/lib/python3.7/dist-packages/seaborn/regression.py:580: UserWarning: The `size` parameter has been renamed to `height`; please update your code.\n",
            "  warnings.warn(msg, UserWarning)\n"
          ],
          "name": "stderr"
        },
        {
          "output_type": "execute_result",
          "data": {
            "text/plain": [
              "<seaborn.axisgrid.FacetGrid at 0x7f28d3a87dd0>"
            ]
          },
          "metadata": {
            "tags": []
          },
          "execution_count": 118
        },
        {
          "output_type": "display_data",
          "data": {
            "image/png": "[encoded data removed]",
            "text/plain": [
              "<Figure size 372.125x288 with 1 Axes>"
            ]
          },
          "metadata": {
            "tags": [],
            "needs_background": "light"
          }
        }
      ]
    },
    {
      "cell_type": "markdown",
      "metadata": {
        "id": "pCeElsArzkrd"
      },
      "source": [
        "# **One common observation is that based on the features that we take into consideration thecluster varies accordingly and the new data frame with the new labels for both the clustering techniques is given above**\n",
        "# **1. Clustering is more based on the X axis for kmeans but in agglomertaive it takes the Y axis also more largely in consideration**"
      ]
    },
    {
      "cell_type": "code",
      "metadata": {
        "id": "MtbLvvhezINL"
      },
      "source": [
        ""
      ],
      "execution_count": null,
      "outputs": []
    }
  ]
}